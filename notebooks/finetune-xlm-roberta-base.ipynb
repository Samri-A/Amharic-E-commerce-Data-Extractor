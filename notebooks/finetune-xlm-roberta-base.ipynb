{
 "cells": [
  {
   "cell_type": "code",
   "execution_count": null,
   "metadata": {},
   "outputs": [],
   "source": [
    "import sys\n",
    "sys.path.append('./scripts')\n",
    "import FinetuneNER"
   ]
  },
  {
   "cell_type": "code",
   "execution_count": 4,
   "metadata": {
    "execution": {
     "iopub.execute_input": "2025-06-24T15:22:21.758484Z",
     "iopub.status.busy": "2025-06-24T15:22:21.758122Z",
     "iopub.status.idle": "2025-06-24T15:22:56.310194Z",
     "shell.execute_reply": "2025-06-24T15:22:56.309238Z",
     "shell.execute_reply.started": "2025-06-24T15:22:21.758439Z"
    },
    "trusted": true
   },
   "outputs": [
    {
     "name": "stderr",
     "output_type": "stream",
     "text": [
      "2025-06-24 15:22:36.815977: E external/local_xla/xla/stream_executor/cuda/cuda_fft.cc:477] Unable to register cuFFT factory: Attempting to register factory for plugin cuFFT when one has already been registered\n",
      "WARNING: All log messages before absl::InitializeLog() is called are written to STDERR\n",
      "E0000 00:00:1750778557.052596      35 cuda_dnn.cc:8310] Unable to register cuDNN factory: Attempting to register factory for plugin cuDNN when one has already been registered\n",
      "E0000 00:00:1750778557.119942      35 cuda_blas.cc:1418] Unable to register cuBLAS factory: Attempting to register factory for plugin cuBLAS when one has already been registered\n"
     ]
    }
   ],
   "source": [
    "from transformers import Trainer , AutoTokenizer , TrainingArguments , DataCollatorForTokenClassification , DataCollatorWithPadding , AutoModelForTokenClassification\n",
    "import pandas as pd\n",
    "from datasets import Dataset \n",
    "from sklearn.model_selection import train_test_split\n",
    "import numpy as np\n",
    "from sklearn.preprocessing import LabelEncoder\n",
    "import evaluate\n",
    "import random"
   ]
  },
  {
   "cell_type": "code",
   "execution_count": 5,
   "metadata": {
    "execution": {
     "iopub.execute_input": "2025-06-24T15:22:56.311812Z",
     "iopub.status.busy": "2025-06-24T15:22:56.311105Z",
     "iopub.status.idle": "2025-06-24T15:22:56.386399Z",
     "shell.execute_reply": "2025-06-24T15:22:56.385537Z",
     "shell.execute_reply.started": "2025-06-24T15:22:56.311781Z"
    },
    "trusted": true
   },
   "outputs": [
    {
     "name": "stdout",
     "output_type": "stream",
     "text": [
      "{'tokens': ['በኤሌትሪክ', 'የሚሰራ', 'ምጣድ', 'ለፈጢራ', 'ለቂጣ', 'ለአምባሻና', 'ለተለያዩ', 'ነገሮች', 'መጋገሪያነት', 'የሚያገለግል', 'በተጨማሪም', 'ቡና', 'ለመቁላት', 'የሚመች', 'በአነስተኛ', 'የኤሌትሪክ', 'ሀይል', 'የሚሰራ', 'እጄታዉ', 'የማያቃጥል', 'ማቴሪያል', 'ሶኬቱ', 'ላይ', 'የሀይል', 'መቆጣጠሪያ', 'ፊዉዝ', 'የተገጠመለት', 'አድራሻ', 'መገናኛ', 'ስሪ', 'ኤም', 'ሲቲ', 'ሞል', 'ሁለተኛ', 'ፎቅ', 'ቢሮ', 'ቁ', 'ሊፍቱ', 'ፊት', 'ለ', 'ፊት', '0909522840', '0923350054', 'ለማዘዝ', 'ይጠቀሙ', 'ለተጨማሪ', 'ማብራሪያ', 'የቴሌግራም', 'ገፃችን'], 'ner_tags': ['B-PRODUCT', 'I-PRODUCT', 'O', 'O', 'O', 'O', 'O', 'O', 'O', 'O', 'O', 'O', 'O', 'O', 'O', 'O', 'O', 'O', 'O', 'O', 'O', 'O', 'O', 'O', 'O', 'O', 'O', 'B-LOC', 'I-LOC', 'I-LOC', 'I-LOC', 'I-LOC', 'I-LOC', 'I-LOC', 'I-LOC', 'O', 'O', 'O', 'O', 'O', 'O', 'O', 'O', 'O', 'O', 'O', 'O', 'O', 'O']}\n"
     ]
    },
    {
     "name": "stderr",
     "output_type": "stream",
     "text": [
      "/tmp/ipykernel_35/2797670705.py:10: FutureWarning: A value is trying to be set on a copy of a DataFrame or Series through chained assignment using an inplace method.\n",
      "The behavior will change in pandas 3.0. This inplace method will never work because the intermediate object on which we are setting values always behaves as a copy.\n",
      "\n",
      "For example, when doing 'df[col].method(value, inplace=True)', try using 'df.method({col: value}, inplace=True)' or df[col] = df[col].method(value) instead, to perform the operation inplace on the original object.\n",
      "\n",
      "\n",
      "  df[\"text\"].replace(\"\", pd.NA, inplace=True)\n"
     ]
    }
   ],
   "source": [
    "df = pd.read_csv(\n",
    "    \"/kaggle/input/amhar-ner/ner_auto_labels.conll\",\n",
    "    sep=\"\\s+\",\n",
    "    names=[\"text\", \"label\"],\n",
    "    skip_blank_lines=False,\n",
    "    engine=\"python\"\n",
    ")\n",
    "\n",
    "# Replace empty lines with NaN to mark sentence boundaries\n",
    "df[\"text\"].replace(\"\", pd.NA, inplace=True)\n",
    "\n",
    "# Create sentence groups (each group = one sentence)\n",
    "df[\"sentence_id\"] = df[\"text\"].isna().cumsum()\n",
    "\n",
    "# Drop empty rows\n",
    "df = df.dropna()\n",
    "\n",
    "# Group by sentence\n",
    "grouped = df.groupby(\"sentence_id\").agg({\n",
    "    \"text\": list,\n",
    "    \"label\": list\n",
    "}).reset_index(drop=True)\n",
    "\n",
    "\n",
    "# Rename columns to match expected format\n",
    "grouped.columns = [\"tokens\", \"ner_tags\"]\n",
    "\n",
    "# Now your grouped DataFrame is ready for Dataset.from_pandas()\n",
    "\n",
    "ner_dataset = Dataset.from_pandas(grouped)\n",
    "\n",
    "print(ner_dataset[0])"
   ]
  },
  {
   "cell_type": "code",
   "execution_count": 6,
   "metadata": {
    "execution": {
     "iopub.execute_input": "2025-06-24T15:22:56.387716Z",
     "iopub.status.busy": "2025-06-24T15:22:56.387444Z",
     "iopub.status.idle": "2025-06-24T15:22:56.442882Z",
     "shell.execute_reply": "2025-06-24T15:22:56.441899Z",
     "shell.execute_reply.started": "2025-06-24T15:22:56.387695Z"
    },
    "trusted": true
   },
   "outputs": [
    {
     "data": {
      "application/vnd.jupyter.widget-view+json": {
       "model_id": "49ba359838984d13a52fb4f73a69862a",
       "version_major": 2,
       "version_minor": 0
      },
      "text/plain": [
       "Map:   0%|          | 0/99 [00:00<?, ? examples/s]"
      ]
     },
     "metadata": {},
     "output_type": "display_data"
    }
   ],
   "source": [
    "label_list = sorted(set(label for tags in ner_dataset[\"ner_tags\"] for label in tags))\n",
    "label_to_id = {label: idx for idx, label in enumerate(label_list)}\n",
    "id_to_label = {idx: label for label, idx in label_to_id.items()}\n",
    "\n",
    "# Encode ner_tags\n",
    "ner_dataset = ner_dataset.map(\n",
    "    lambda example: {\"ner_tags\": [label_to_id[label] for label in example[\"ner_tags\"]]}\n",
    ")"
   ]
  },
  {
   "cell_type": "code",
   "execution_count": 7,
   "metadata": {
    "execution": {
     "iopub.execute_input": "2025-06-24T15:22:56.445925Z",
     "iopub.status.busy": "2025-06-24T15:22:56.445620Z",
     "iopub.status.idle": "2025-06-24T15:22:56.457965Z",
     "shell.execute_reply": "2025-06-24T15:22:56.457036Z",
     "shell.execute_reply.started": "2025-06-24T15:22:56.445893Z"
    },
    "trusted": true
   },
   "outputs": [],
   "source": [
    "split_dataset = ner_dataset.train_test_split(test_size=0.1)"
   ]
  },
  {
   "cell_type": "code",
   "execution_count": 9,
   "metadata": {
    "execution": {
     "iopub.execute_input": "2025-06-24T15:22:56.473803Z",
     "iopub.status.busy": "2025-06-24T15:22:56.473581Z",
     "iopub.status.idle": "2025-06-24T15:23:01.158301Z",
     "shell.execute_reply": "2025-06-24T15:23:01.157568Z",
     "shell.execute_reply.started": "2025-06-24T15:22:56.473785Z"
    },
    "trusted": true
   },
   "outputs": [
    {
     "data": {
      "application/vnd.jupyter.widget-view+json": {
       "model_id": "a8a3047bfe1945358217fa53655c4987",
       "version_major": 2,
       "version_minor": 0
      },
      "text/plain": [
       "tokenizer_config.json:   0%|          | 0.00/25.0 [00:00<?, ?B/s]"
      ]
     },
     "metadata": {},
     "output_type": "display_data"
    },
    {
     "data": {
      "application/vnd.jupyter.widget-view+json": {
       "model_id": "feeab40efcd948b69d51b4315e665edd",
       "version_major": 2,
       "version_minor": 0
      },
      "text/plain": [
       "config.json:   0%|          | 0.00/615 [00:00<?, ?B/s]"
      ]
     },
     "metadata": {},
     "output_type": "display_data"
    },
    {
     "data": {
      "application/vnd.jupyter.widget-view+json": {
       "model_id": "57592b1cd23a4752aa8701303804fe23",
       "version_major": 2,
       "version_minor": 0
      },
      "text/plain": [
       "sentencepiece.bpe.model:   0%|          | 0.00/5.07M [00:00<?, ?B/s]"
      ]
     },
     "metadata": {},
     "output_type": "display_data"
    },
    {
     "data": {
      "application/vnd.jupyter.widget-view+json": {
       "model_id": "e09d4edd89254226b367100453a844bc",
       "version_major": 2,
       "version_minor": 0
      },
      "text/plain": [
       "tokenizer.json:   0%|          | 0.00/9.10M [00:00<?, ?B/s]"
      ]
     },
     "metadata": {},
     "output_type": "display_data"
    },
    {
     "data": {
      "application/vnd.jupyter.widget-view+json": {
       "model_id": "f3ab43fe9a4f46c8a8e867f4067d55f3",
       "version_major": 2,
       "version_minor": 0
      },
      "text/plain": [
       "Downloading builder script:   0%|          | 0.00/6.34k [00:00<?, ?B/s]"
      ]
     },
     "metadata": {},
     "output_type": "display_data"
    }
   ],
   "source": [
    "roberta_finetune = FinetuneNER(\"FacebookAI/xlm-roberta-base\" , label_list)"
   ]
  },
  {
   "cell_type": "code",
   "execution_count": 10,
   "metadata": {
    "execution": {
     "iopub.execute_input": "2025-06-24T15:23:01.159634Z",
     "iopub.status.busy": "2025-06-24T15:23:01.159288Z",
     "iopub.status.idle": "2025-06-24T15:23:01.368987Z",
     "shell.execute_reply": "2025-06-24T15:23:01.368133Z",
     "shell.execute_reply.started": "2025-06-24T15:23:01.159605Z"
    },
    "trusted": true
   },
   "outputs": [
    {
     "data": {
      "application/vnd.jupyter.widget-view+json": {
       "model_id": "e31974dc003d430c8818a2c100ab0619",
       "version_major": 2,
       "version_minor": 0
      },
      "text/plain": [
       "Map:   0%|          | 0/89 [00:00<?, ? examples/s]"
      ]
     },
     "metadata": {},
     "output_type": "display_data"
    },
    {
     "data": {
      "application/vnd.jupyter.widget-view+json": {
       "model_id": "53a7ec9b177a4dbfb90acb5faef158af",
       "version_major": 2,
       "version_minor": 0
      },
      "text/plain": [
       "Map:   0%|          | 0/10 [00:00<?, ? examples/s]"
      ]
     },
     "metadata": {},
     "output_type": "display_data"
    }
   ],
   "source": [
    "tokenized_dataset = split_dataset.map(roberta_finetune.tokenize_and_align_labels ,  batched=True)"
   ]
  },
  {
   "cell_type": "code",
   "execution_count": 11,
   "metadata": {
    "execution": {
     "iopub.execute_input": "2025-06-24T15:23:01.370296Z",
     "iopub.status.busy": "2025-06-24T15:23:01.369979Z",
     "iopub.status.idle": "2025-06-24T15:23:01.375776Z",
     "shell.execute_reply": "2025-06-24T15:23:01.374893Z",
     "shell.execute_reply.started": "2025-06-24T15:23:01.370274Z"
    },
    "trusted": true
   },
   "outputs": [
    {
     "data": {
      "text/plain": [
       "{'train': (89, 5), 'test': (10, 5)}"
      ]
     },
     "execution_count": 11,
     "metadata": {},
     "output_type": "execute_result"
    }
   ],
   "source": [
    "tokenized_dataset.shape"
   ]
  },
  {
   "cell_type": "code",
   "execution_count": 12,
   "metadata": {
    "execution": {
     "iopub.execute_input": "2025-06-24T15:23:01.377029Z",
     "iopub.status.busy": "2025-06-24T15:23:01.376716Z",
     "iopub.status.idle": "2025-06-24T15:23:01.392547Z",
     "shell.execute_reply": "2025-06-24T15:23:01.391694Z",
     "shell.execute_reply.started": "2025-06-24T15:23:01.377001Z"
    },
    "trusted": true
   },
   "outputs": [],
   "source": [
    "colator = DataCollatorWithPadding(tokenized_dataset)"
   ]
  },
  {
   "cell_type": "code",
   "execution_count": 13,
   "metadata": {
    "execution": {
     "iopub.execute_input": "2025-06-24T15:23:01.393878Z",
     "iopub.status.busy": "2025-06-24T15:23:01.393529Z",
     "iopub.status.idle": "2025-06-24T15:30:54.630862Z",
     "shell.execute_reply": "2025-06-24T15:30:54.627907Z",
     "shell.execute_reply.started": "2025-06-24T15:23:01.393830Z"
    },
    "trusted": true
   },
   "outputs": [
    {
     "data": {
      "application/vnd.jupyter.widget-view+json": {
       "model_id": "e16c9f6e617a477f821b23125810fb72",
       "version_major": 2,
       "version_minor": 0
      },
      "text/plain": [
       "model.safetensors:   0%|          | 0.00/1.12G [00:00<?, ?B/s]"
      ]
     },
     "metadata": {},
     "output_type": "display_data"
    },
    {
     "name": "stderr",
     "output_type": "stream",
     "text": [
      "Some weights of XLMRobertaForTokenClassification were not initialized from the model checkpoint at FacebookAI/xlm-roberta-base and are newly initialized: ['classifier.bias', 'classifier.weight']\n",
      "You should probably TRAIN this model on a down-stream task to be able to use it for predictions and inference.\n",
      "/tmp/ipykernel_35/795147254.py:71: FutureWarning: `tokenizer` is deprecated and will be removed in version 5.0.0 for `Trainer.__init__`. Use `processing_class` instead.\n",
      "  trainer = Trainer(\n"
     ]
    },
    {
     "data": {
      "text/html": [
       "\n",
       "    <div>\n",
       "      \n",
       "      <progress value='60' max='60' style='width:300px; height:20px; vertical-align: middle;'></progress>\n",
       "      [60/60 07:36, Epoch 5/5]\n",
       "    </div>\n",
       "    <table border=\"1\" class=\"dataframe\">\n",
       "  <thead>\n",
       " <tr style=\"text-align: left;\">\n",
       "      <th>Step</th>\n",
       "      <th>Training Loss</th>\n",
       "    </tr>\n",
       "  </thead>\n",
       "  <tbody>\n",
       "    <tr>\n",
       "      <td>12</td>\n",
       "      <td>1.415800</td>\n",
       "    </tr>\n",
       "    <tr>\n",
       "      <td>24</td>\n",
       "      <td>0.925200</td>\n",
       "    </tr>\n",
       "    <tr>\n",
       "      <td>36</td>\n",
       "      <td>0.764000</td>\n",
       "    </tr>\n",
       "    <tr>\n",
       "      <td>48</td>\n",
       "      <td>0.701800</td>\n",
       "    </tr>\n",
       "    <tr>\n",
       "      <td>60</td>\n",
       "      <td>0.642800</td>\n",
       "    </tr>\n",
       "  </tbody>\n",
       "</table><p>"
      ],
      "text/plain": [
       "<IPython.core.display.HTML object>"
      ]
     },
     "metadata": {},
     "output_type": "display_data"
    }
   ],
   "source": [
    "train_dataset , test_dataset = tokenized_dataset[\"train\"] , tokenized_dataset[\"test\"]\n",
    "trained_roberta = roberta_finetune.train(train_dataset , test_dataset,5 , 8)"
   ]
  },
  {
   "cell_type": "code",
   "execution_count": 14,
   "metadata": {
    "execution": {
     "iopub.execute_input": "2025-06-24T15:30:54.636113Z",
     "iopub.status.busy": "2025-06-24T15:30:54.635617Z",
     "iopub.status.idle": "2025-06-24T15:30:58.014870Z",
     "shell.execute_reply": "2025-06-24T15:30:58.013898Z",
     "shell.execute_reply.started": "2025-06-24T15:30:54.636063Z"
    },
    "trusted": true
   },
   "outputs": [
    {
     "data": {
      "text/html": [],
      "text/plain": [
       "<IPython.core.display.HTML object>"
      ]
     },
     "metadata": {},
     "output_type": "display_data"
    },
    {
     "name": "stdout",
     "output_type": "stream",
     "text": [
      "{'eval_loss': 0.6809710264205933, 'eval_LOC': {'precision': 0.0, 'recall': 0.0, 'f1': 0.0, 'number': 6}, 'eval_PRICE': {'precision': 0.0, 'recall': 0.0, 'f1': 0.0, 'number': 5}, 'eval_PRODUCT': {'precision': 0.0, 'recall': 0.0, 'f1': 0.0, 'number': 8}, 'eval_overall_precision': 0.0, 'eval_overall_recall': 0.0, 'eval_overall_f1': 0.0, 'eval_overall_accuracy': 0.8129175946547884, 'eval_runtime': 3.3499, 'eval_samples_per_second': 2.985, 'eval_steps_per_second': 0.597, 'epoch': 5.0}\n"
     ]
    },
    {
     "name": "stderr",
     "output_type": "stream",
     "text": [
      "/usr/local/lib/python3.11/dist-packages/seqeval/metrics/v1.py:57: UndefinedMetricWarning: Precision and F-score are ill-defined and being set to 0.0 in labels with no predicted samples. Use `zero_division` parameter to control this behavior.\n",
      "  _warn_prf(average, modifier, msg_start, len(result))\n"
     ]
    }
   ],
   "source": [
    "print(trained_roberta.evaluate())"
   ]
  },
  {
   "cell_type": "code",
   "execution_count": 15,
   "metadata": {
    "execution": {
     "iopub.execute_input": "2025-06-24T15:30:58.016744Z",
     "iopub.status.busy": "2025-06-24T15:30:58.016147Z",
     "iopub.status.idle": "2025-06-24T15:30:58.428716Z",
     "shell.execute_reply": "2025-06-24T15:30:58.427722Z",
     "shell.execute_reply.started": "2025-06-24T15:30:58.016717Z"
    },
    "trusted": true
   },
   "outputs": [],
   "source": [
    "from sklearn.metrics import confusion_matrix, classification_report\n",
    "import matplotlib.pyplot as plt\n",
    "import seaborn as sns\n",
    "from seqeval.metrics import classification_report as seqeval_report\n",
    "\n",
    "def train_and_evaluate_with_confusion_matrix(trainer, label_list, use_seqeval=False):\n",
    "    # Step 1: Train the model\n",
    "\n",
    "\n",
    "    # Step 2: Get predictions\n",
    "    predictions, labels, _ = trainer.predict(trainer.eval_dataset)\n",
    "    preds = predictions.argmax(axis=-1)\n",
    "\n",
    "    true_labels = []\n",
    "    pred_labels = []\n",
    "\n",
    "    for pred, label in zip(preds, labels):\n",
    "        true_seq = []\n",
    "        pred_seq = []\n",
    "        for p, l in zip(pred, label):\n",
    "            if l != -100:\n",
    "                true_seq.append(label_list[l])\n",
    "                pred_seq.append(label_list[p])\n",
    "        true_labels.append(true_seq)\n",
    "        pred_labels.append(pred_seq)\n",
    "\n",
    "    if use_seqeval:\n",
    "        # Step 3a: Entity-level evaluation with seqeval\n",
    "        print(\"Classification Report (SeqEval):\")\n",
    "        print(seqeval_report(true_labels, pred_labels))\n",
    "\n",
    "        # Step 4a: Flatten for confusion matrix (manually)\n",
    "        true_flat = [label for seq in true_labels for label in seq]\n",
    "        pred_flat = [label for seq in pred_labels for label in seq]\n",
    "        labels_flat = sorted(list(set(true_flat + pred_flat)))\n",
    "\n",
    "    else:\n",
    "        # Step 3b: Token-level evaluation with sklearn\n",
    "        true_flat = [label for seq in true_labels for label in seq]\n",
    "        pred_flat = [label for seq in pred_labels for label in seq]\n",
    "        labels_flat = label_list\n",
    "\n",
    "        print(\"Classification Report (sklearn):\")\n",
    "        print(classification_report(true_flat, pred_flat, labels=labels_flat))\n",
    "\n",
    "    # Step 5: Plot confusion matrix\n",
    "    cm = confusion_matrix(true_flat, pred_flat, labels=labels_flat)\n",
    "\n",
    "    plt.figure(figsize=(12, 8))\n",
    "    sns.heatmap(cm, annot=True, fmt='d', xticklabels=labels_flat, yticklabels=labels_flat, cmap=\"Blues\")\n",
    "    plt.xlabel(\"Predicted\")\n",
    "    plt.ylabel(\"True\")\n",
    "    plt.title(\"NER Confusion Matrix\")\n",
    "    plt.show()\n",
    "\n",
    "    "
   ]
  },
  {
   "cell_type": "code",
   "execution_count": 17,
   "metadata": {
    "execution": {
     "iopub.execute_input": "2025-06-24T15:31:34.851203Z",
     "iopub.status.busy": "2025-06-24T15:31:34.850825Z",
     "iopub.status.idle": "2025-06-24T15:31:37.117825Z",
     "shell.execute_reply": "2025-06-24T15:31:37.116829Z",
     "shell.execute_reply.started": "2025-06-24T15:31:34.851174Z"
    },
    "trusted": true
   },
   "outputs": [
    {
     "name": "stderr",
     "output_type": "stream",
     "text": [
      "/usr/local/lib/python3.11/dist-packages/seqeval/metrics/v1.py:57: UndefinedMetricWarning: Precision and F-score are ill-defined and being set to 0.0 in labels with no predicted samples. Use `zero_division` parameter to control this behavior.\n",
      "  _warn_prf(average, modifier, msg_start, len(result))\n",
      "/usr/local/lib/python3.11/dist-packages/sklearn/metrics/_classification.py:1344: UndefinedMetricWarning: Precision and F-score are ill-defined and being set to 0.0 in labels with no predicted samples. Use `zero_division` parameter to control this behavior.\n",
      "  _warn_prf(average, modifier, msg_start, len(result))\n",
      "/usr/local/lib/python3.11/dist-packages/sklearn/metrics/_classification.py:1344: UndefinedMetricWarning: Precision and F-score are ill-defined and being set to 0.0 in labels with no predicted samples. Use `zero_division` parameter to control this behavior.\n",
      "  _warn_prf(average, modifier, msg_start, len(result))\n",
      "/usr/local/lib/python3.11/dist-packages/sklearn/metrics/_classification.py:1344: UndefinedMetricWarning: Precision and F-score are ill-defined and being set to 0.0 in labels with no predicted samples. Use `zero_division` parameter to control this behavior.\n",
      "  _warn_prf(average, modifier, msg_start, len(result))\n"
     ]
    },
    {
     "name": "stdout",
     "output_type": "stream",
     "text": [
      "Classification Report (sklearn):\n",
      "              precision    recall  f1-score   support\n",
      "\n",
      "       B-LOC       0.00      0.00      0.00         6\n",
      "     B-PRICE       0.00      0.00      0.00         5\n",
      "   B-PRODUCT       0.00      0.00      0.00         8\n",
      "       I-LOC       0.76      0.25      0.38        51\n",
      "     I-PRICE       0.00      0.00      0.00        15\n",
      "   I-PRODUCT       0.00      0.00      0.00         8\n",
      "           O       0.81      0.99      0.89       356\n",
      "\n",
      "    accuracy                           0.81       449\n",
      "   macro avg       0.23      0.18      0.18       449\n",
      "weighted avg       0.73      0.81      0.75       449\n",
      "\n"
     ]
    },
    {
     "data": {
      "image/png": "[encoded data removed]",
      "text/plain": [
       "<Figure size 1200x800 with 2 Axes>"
      ]
     },
     "metadata": {},
     "output_type": "display_data"
    }
   ],
   "source": [
    "train_and_evaluate_with_confusion_matrix(trained_robert , label_list)"
   ]
  },
  {
   "cell_type": "code",
   "execution_count": null,
   "metadata": {
    "trusted": true
   },
   "outputs": [],
   "source": []
  }
 ],
 "metadata": {
  "kaggle": {
   "accelerator": "none",
   "dataSources": [
    {
     "datasetId": 7725591,
     "sourceId": 12260008,
     "sourceType": "datasetVersion"
    },
    {
     "datasetId": 7729384,
     "sourceId": 12265814,
     "sourceType": "datasetVersion"
    },
    {
     "datasetId": 7729412,
     "sourceId": 12265859,
     "sourceType": "datasetVersion"
    }
   ],
   "dockerImageVersionId": 31040,
   "isGpuEnabled": false,
   "isInternetEnabled": true,
   "language": "python",
   "sourceType": "notebook"
  },
  "kernelspec": {
   "display_name": "Python 3",
   "language": "python",
   "name": "python3"
  },
  "language_info": {
   "codemirror_mode": {
    "name": "ipython",
    "version": 3
   },
   "file_extension": ".py",
   "mimetype": "text/x-python",
   "name": "python",
   "nbconvert_exporter": "python",
   "pygments_lexer": "ipython3",
   "version": "3.11.11"
  }
 },
 "nbformat": 4,
 "nbformat_minor": 4
}
