{
  "cells": [
    {
      "cell_type": "code",
      "execution_count": null,
      "metadata": {},
      "outputs": [],
      "source": [
        "import sys\n",
        "sys.path.append('../scripts')\n",
        "from telegram_scrap import scrap_process"
      ]
    },
    {
      "cell_type": "code",
      "execution_count": null,
      "metadata": {
        "id": "NoyUo8evdQ7x"
      },
      "outputs": [],
      "source": [
        "one = \"ZemenExpress\"\n",
        "two = \"meneshayeofficial\"\n",
        "three = \"modernshoppingcenter\"\n",
        "four = \"MerttEka\"\n",
        "five = \"gebeyaadama\""
      ]
    },
    {
      "cell_type": "code",
      "execution_count": null,
      "metadata": {},
      "outputs": [],
      "source": [
        "import pandas as pd"
      ]
    },
    {
      "cell_type": "code",
      "execution_count": null,
      "metadata": {
        "id": "Hr7qimHUzecQ"
      },
      "outputs": [],
      "source": [
        "scrap_process = scrap_process()"
      ]
    },
    {
      "cell_type": "code",
      "execution_count": null,
      "metadata": {
        "id": "UIOvu_FogWb_"
      },
      "outputs": [],
      "source": [
        "ZemenExpress = await scrap_process.scraping_message(one , None)\n"
      ]
    },
    {
      "cell_type": "code",
      "execution_count": null,
      "metadata": {
        "id": "icrfI1iCvkAG"
      },
      "outputs": [],
      "source": [
        "meneshayeofficial = await scrap_process.scraping_message(two , None)\n",
        "modernshoppingcenter = await scrap_process.scraping_message(three , None)\n",
        "MerttEka = await scrap_process.scraping_message(four , None)\n",
        "gebeyaadama = await scrap_process.scraping_message(five , None)"
      ]
    },
    {
      "cell_type": "code",
      "execution_count": null,
      "metadata": {
        "id": "8Tacf6vu4FjS"
      },
      "outputs": [],
      "source": [
        "ZemenExpress_df = scrap_process.to_df(ZemenExpress)\n",
        "meneshayeofficial_df = scrap_process.to_df(meneshayeofficial)\n",
        "modern_df = scrap_process.to_df(modernshoppingcenter)\n",
        "MerttEka_df = scrap_process.to_df(MerttEka)\n",
        "gebeyaadama_df = scrap_process.to_df(gebeyaadama)"
      ]
    },
    {
      "cell_type": "code",
      "execution_count": null,
      "metadata": {
        "id": "qMHtR4BW-wTV"
      },
      "outputs": [],
      "source": [
        "ZemenExpress_df[\"channel\"] = one\n",
        "meneshayeofficial_df[\"channel\"] = two\n",
        "modern_df[\"channel\"] = three\n",
        "MerttEka_df[\"channel\"] = four\n",
        "gebeyaadama_df [\"channel\"] = five"
      ]
    },
    {
      "cell_type": "code",
      "execution_count": null,
      "metadata": {
        "id": "narGpffPxVf8"
      },
      "outputs": [],
      "source": [
        "ecommerce_message_df = pd.concat([ZemenExpress_df , meneshayeofficial_df ,modern_df , MerttEka_df , gebeyaadama_df])"
      ]
    },
    {
      "cell_type": "code",
      "execution_count": null,
      "metadata": {
        "colab": {
          "base_uri": "https://localhost:8080/"
        },
        "id": "S_Pce_LIydAE",
        "outputId": "e23bff2b-47d3-4d7a-d8d1-ceaf4f8ccd45"
      },
      "outputs": [
        {
          "name": "stdout",
          "output_type": "stream",
          "text": [
            "<class 'pandas.core.frame.DataFrame'>\n",
            "Index: 24364 entries, 0 to 3698\n",
            "Data columns (total 45 columns):\n",
            " #   Column                      Non-Null Count  Dtype              \n",
            "---  ------                      --------------  -----              \n",
            " 0   _                           24364 non-null  object             \n",
            " 1   id                          24364 non-null  int64              \n",
            " 2   peer_id                     24364 non-null  object             \n",
            " 3   date                        24364 non-null  datetime64[ns, UTC]\n",
            " 4   message                     24181 non-null  object             \n",
            " 5   out                         24364 non-null  bool               \n",
            " 6   mentioned                   24364 non-null  bool               \n",
            " 7   media_unread                24364 non-null  bool               \n",
            " 8   silent                      24364 non-null  bool               \n",
            " 9   post                        24364 non-null  bool               \n",
            " 10  from_scheduled              24181 non-null  float64            \n",
            " 11  legacy                      24364 non-null  bool               \n",
            " 12  edit_hide                   24181 non-null  float64            \n",
            " 13  pinned                      24181 non-null  float64            \n",
            " 14  noforwards                  24181 non-null  float64            \n",
            " 15  invert_media                24181 non-null  float64            \n",
            " 16  offline                     24181 non-null  float64            \n",
            " 17  video_processing_pending    24181 non-null  float64            \n",
            " 18  from_id                     0 non-null      float64            \n",
            " 19  from_boosts_applied         0 non-null      float64            \n",
            " 20  saved_peer_id               0 non-null      float64            \n",
            " 21  fwd_from                    1215 non-null   object             \n",
            " 22  via_bot_id                  0 non-null      float64            \n",
            " 23  via_business_bot_id         0 non-null      float64            \n",
            " 24  reply_to                    221 non-null    object             \n",
            " 25  media                       23912 non-null  object             \n",
            " 26  reply_markup                4 non-null      object             \n",
            " 27  entities                    24181 non-null  object             \n",
            " 28  views                       24181 non-null  float64            \n",
            " 29  forwards                    24181 non-null  float64            \n",
            " 30  replies                     4516 non-null   object             \n",
            " 31  edit_date                   16451 non-null  object             \n",
            " 32  post_author                 7215 non-null   object             \n",
            " 33  grouped_id                  11599 non-null  float64            \n",
            " 34  reactions                   14085 non-null  object             \n",
            " 35  restriction_reason          24181 non-null  object             \n",
            " 36  ttl_period                  0 non-null      float64            \n",
            " 37  quick_reply_shortcut_id     0 non-null      float64            \n",
            " 38  effect                      0 non-null      float64            \n",
            " 39  factcheck                   0 non-null      float64            \n",
            " 40  report_delivery_until_date  0 non-null      float64            \n",
            " 41  paid_message_stars          0 non-null      float64            \n",
            " 42  action                      183 non-null    object             \n",
            " 43  reactions_are_possible      183 non-null    float64            \n",
            " 44  channel                     24364 non-null  object             \n",
            "dtypes: bool(6), datetime64[ns, UTC](1), float64(22), int64(1), object(15)\n",
            "memory usage: 7.6+ MB\n"
          ]
        }
      ],
      "source": [
        "ecommerce_message_df.info()"
      ]
    },
    {
      "cell_type": "code",
      "execution_count": null,
      "metadata": {
        "colab": {
          "base_uri": "https://localhost:8080/",
          "height": 767
        },
        "id": "7u_Jvs4uz8ae",
        "outputId": "f01da919-498b-4962-84da-10510d8d96e8"
      },
      "outputs": [
        {
          "data": {
            "text/html": [
              "<div>\n",
              "<style scoped>\n",
              "    .dataframe tbody tr th:only-of-type {\n",
              "        vertical-align: middle;\n",
              "    }\n",
              "\n",
              "    .dataframe tbody tr th {\n",
              "        vertical-align: top;\n",
              "    }\n",
              "\n",
              "    .dataframe thead th {\n",
              "        text-align: right;\n",
              "    }\n",
              "</style>\n",
              "<table border=\"1\" class=\"dataframe\">\n",
              "  <thead>\n",
              "    <tr style=\"text-align: right;\">\n",
              "      <th></th>\n",
              "      <th>count</th>\n",
              "    </tr>\n",
              "    <tr>\n",
              "      <th>reactions</th>\n",
              "      <th></th>\n",
              "    </tr>\n",
              "  </thead>\n",
              "  <tbody>\n",
              "    <tr>\n",
              "      <th>{'_': 'MessageReactions', 'results': [{'_': 'ReactionCount', 'reaction': {'_': 'ReactionEmoji', 'emoticon': '👍'}, 'count': 1, 'chosen_order': None}], 'min': False, 'can_see_list': False, 'reactions_as_tags': False, 'recent_reactions': [], 'top_reactors': []}</th>\n",
              "      <td>681</td>\n",
              "    </tr>\n",
              "    <tr>\n",
              "      <th>{'_': 'MessageReactions', 'results': [{'_': 'ReactionCount', 'reaction': {'_': 'ReactionEmoji', 'emoticon': '👍'}, 'count': 2, 'chosen_order': None}], 'min': False, 'can_see_list': False, 'reactions_as_tags': False, 'recent_reactions': [], 'top_reactors': []}</th>\n",
              "      <td>437</td>\n",
              "    </tr>\n",
              "    <tr>\n",
              "      <th>{'_': 'MessageReactions', 'results': [{'_': 'ReactionCount', 'reaction': {'_': 'ReactionEmoji', 'emoticon': '👍'}, 'count': 4, 'chosen_order': None}], 'min': False, 'can_see_list': False, 'reactions_as_tags': False, 'recent_reactions': [], 'top_reactors': []}</th>\n",
              "      <td>283</td>\n",
              "    </tr>\n",
              "    <tr>\n",
              "      <th>{'_': 'MessageReactions', 'results': [{'_': 'ReactionCount', 'reaction': {'_': 'ReactionEmoji', 'emoticon': '👍'}, 'count': 3, 'chosen_order': None}], 'min': False, 'can_see_list': False, 'reactions_as_tags': False, 'recent_reactions': [], 'top_reactors': []}</th>\n",
              "      <td>280</td>\n",
              "    </tr>\n",
              "    <tr>\n",
              "      <th>{'_': 'MessageReactions', 'results': [{'_': 'ReactionCount', 'reaction': {'_': 'ReactionEmoji', 'emoticon': '👍'}, 'count': 5, 'chosen_order': None}], 'min': False, 'can_see_list': False, 'reactions_as_tags': False, 'recent_reactions': [], 'top_reactors': []}</th>\n",
              "      <td>216</td>\n",
              "    </tr>\n",
              "    <tr>\n",
              "      <th>...</th>\n",
              "      <td>...</td>\n",
              "    </tr>\n",
              "    <tr>\n",
              "      <th>{'_': 'MessageReactions', 'results': [{'_': 'ReactionCount', 'reaction': {'_': 'ReactionEmoji', 'emoticon': '🎉'}, 'count': 2, 'chosen_order': None}, {'_': 'ReactionCount', 'reaction': {'_': 'ReactionEmoji', 'emoticon': '❤'}, 'count': 1, 'chosen_order': None}, {'_': 'ReactionCount', 'reaction': {'_': 'ReactionEmoji', 'emoticon': '👍'}, 'count': 1, 'chosen_order': None}], 'min': False, 'can_see_list': False, 'reactions_as_tags': False, 'recent_reactions': [], 'top_reactors': []}</th>\n",
              "      <td>1</td>\n",
              "    </tr>\n",
              "    <tr>\n",
              "      <th>{'_': 'MessageReactions', 'results': [{'_': 'ReactionCount', 'reaction': {'_': 'ReactionEmoji', 'emoticon': '👍'}, 'count': 2, 'chosen_order': None}, {'_': 'ReactionCount', 'reaction': {'_': 'ReactionEmoji', 'emoticon': '🤩'}, 'count': 1, 'chosen_order': None}], 'min': False, 'can_see_list': False, 'reactions_as_tags': False, 'recent_reactions': [], 'top_reactors': []}</th>\n",
              "      <td>1</td>\n",
              "    </tr>\n",
              "    <tr>\n",
              "      <th>{'_': 'MessageReactions', 'results': [{'_': 'ReactionCount', 'reaction': {'_': 'ReactionEmoji', 'emoticon': '❤'}, 'count': 1, 'chosen_order': None}, {'_': 'ReactionCount', 'reaction': {'_': 'ReactionEmoji', 'emoticon': '🤩'}, 'count': 1, 'chosen_order': None}], 'min': False, 'can_see_list': False, 'reactions_as_tags': False, 'recent_reactions': [], 'top_reactors': []}</th>\n",
              "      <td>1</td>\n",
              "    </tr>\n",
              "    <tr>\n",
              "      <th>{'_': 'MessageReactions', 'results': [{'_': 'ReactionCount', 'reaction': {'_': 'ReactionEmoji', 'emoticon': '❤'}, 'count': 2, 'chosen_order': None}, {'_': 'ReactionCount', 'reaction': {'_': 'ReactionEmoji', 'emoticon': '🤩'}, 'count': 1, 'chosen_order': None}], 'min': False, 'can_see_list': False, 'reactions_as_tags': False, 'recent_reactions': [], 'top_reactors': []}</th>\n",
              "      <td>1</td>\n",
              "    </tr>\n",
              "    <tr>\n",
              "      <th>{'_': 'MessageReactions', 'results': [{'_': 'ReactionCount', 'reaction': {'_': 'ReactionEmoji', 'emoticon': '❤'}, 'count': 9, 'chosen_order': None}, {'_': 'ReactionCount', 'reaction': {'_': 'ReactionEmoji', 'emoticon': '👍'}, 'count': 1, 'chosen_order': None}], 'min': False, 'can_see_list': False, 'reactions_as_tags': False, 'recent_reactions': [], 'top_reactors': []}</th>\n",
              "      <td>1</td>\n",
              "    </tr>\n",
              "  </tbody>\n",
              "</table>\n",
              "<p>4945 rows × 1 columns</p>\n",
              "</div><br><label><b>dtype:</b> int64</label>"
            ],
            "text/plain": [
              "reactions\n",
              "{'_': 'MessageReactions', 'results': [{'_': 'ReactionCount', 'reaction': {'_': 'ReactionEmoji', 'emoticon': '👍'}, 'count': 1, 'chosen_order': None}], 'min': False, 'can_see_list': False, 'reactions_as_tags': False, 'recent_reactions': [], 'top_reactors': []}                                                                                                                                                                                                                                  681\n",
              "{'_': 'MessageReactions', 'results': [{'_': 'ReactionCount', 'reaction': {'_': 'ReactionEmoji', 'emoticon': '👍'}, 'count': 2, 'chosen_order': None}], 'min': False, 'can_see_list': False, 'reactions_as_tags': False, 'recent_reactions': [], 'top_reactors': []}                                                                                                                                                                                                                                  437\n",
              "{'_': 'MessageReactions', 'results': [{'_': 'ReactionCount', 'reaction': {'_': 'ReactionEmoji', 'emoticon': '👍'}, 'count': 4, 'chosen_order': None}], 'min': False, 'can_see_list': False, 'reactions_as_tags': False, 'recent_reactions': [], 'top_reactors': []}                                                                                                                                                                                                                                  283\n",
              "{'_': 'MessageReactions', 'results': [{'_': 'ReactionCount', 'reaction': {'_': 'ReactionEmoji', 'emoticon': '👍'}, 'count': 3, 'chosen_order': None}], 'min': False, 'can_see_list': False, 'reactions_as_tags': False, 'recent_reactions': [], 'top_reactors': []}                                                                                                                                                                                                                                  280\n",
              "{'_': 'MessageReactions', 'results': [{'_': 'ReactionCount', 'reaction': {'_': 'ReactionEmoji', 'emoticon': '👍'}, 'count': 5, 'chosen_order': None}], 'min': False, 'can_see_list': False, 'reactions_as_tags': False, 'recent_reactions': [], 'top_reactors': []}                                                                                                                                                                                                                                  216\n",
              "                                                                                                                                                                                                                                                                                                                                                                                                                                                                                                   ... \n",
              "{'_': 'MessageReactions', 'results': [{'_': 'ReactionCount', 'reaction': {'_': 'ReactionEmoji', 'emoticon': '🎉'}, 'count': 2, 'chosen_order': None}, {'_': 'ReactionCount', 'reaction': {'_': 'ReactionEmoji', 'emoticon': '❤'}, 'count': 1, 'chosen_order': None}, {'_': 'ReactionCount', 'reaction': {'_': 'ReactionEmoji', 'emoticon': '👍'}, 'count': 1, 'chosen_order': None}], 'min': False, 'can_see_list': False, 'reactions_as_tags': False, 'recent_reactions': [], 'top_reactors': []}      1\n",
              "{'_': 'MessageReactions', 'results': [{'_': 'ReactionCount', 'reaction': {'_': 'ReactionEmoji', 'emoticon': '👍'}, 'count': 2, 'chosen_order': None}, {'_': 'ReactionCount', 'reaction': {'_': 'ReactionEmoji', 'emoticon': '🤩'}, 'count': 1, 'chosen_order': None}], 'min': False, 'can_see_list': False, 'reactions_as_tags': False, 'recent_reactions': [], 'top_reactors': []}                                                                                                                     1\n",
              "{'_': 'MessageReactions', 'results': [{'_': 'ReactionCount', 'reaction': {'_': 'ReactionEmoji', 'emoticon': '❤'}, 'count': 1, 'chosen_order': None}, {'_': 'ReactionCount', 'reaction': {'_': 'ReactionEmoji', 'emoticon': '🤩'}, 'count': 1, 'chosen_order': None}], 'min': False, 'can_see_list': False, 'reactions_as_tags': False, 'recent_reactions': [], 'top_reactors': []}                                                                                                                     1\n",
              "{'_': 'MessageReactions', 'results': [{'_': 'ReactionCount', 'reaction': {'_': 'ReactionEmoji', 'emoticon': '❤'}, 'count': 2, 'chosen_order': None}, {'_': 'ReactionCount', 'reaction': {'_': 'ReactionEmoji', 'emoticon': '🤩'}, 'count': 1, 'chosen_order': None}], 'min': False, 'can_see_list': False, 'reactions_as_tags': False, 'recent_reactions': [], 'top_reactors': []}                                                                                                                     1\n",
              "{'_': 'MessageReactions', 'results': [{'_': 'ReactionCount', 'reaction': {'_': 'ReactionEmoji', 'emoticon': '❤'}, 'count': 9, 'chosen_order': None}, {'_': 'ReactionCount', 'reaction': {'_': 'ReactionEmoji', 'emoticon': '👍'}, 'count': 1, 'chosen_order': None}], 'min': False, 'can_see_list': False, 'reactions_as_tags': False, 'recent_reactions': [], 'top_reactors': []}                                                                                                                     1\n",
              "Name: count, Length: 4945, dtype: int64"
            ]
          },
          "execution_count": 16,
          "metadata": {},
          "output_type": "execute_result"
        }
      ],
      "source": [
        "ecommerce_message_df[\"reactions\"].value_counts()"
      ]
    },
    {
      "cell_type": "code",
      "execution_count": null,
      "metadata": {
        "id": "BgLf4RTeykqc"
      },
      "outputs": [],
      "source": [
        "ecommerce_message_df = ecommerce_message_df[[ \"id\" , \"channel\" , \"post_author\", \"reactions\" , \"media\" , \"views\" , \"date\" , \"message\"]]"
      ]
    },
    {
      "cell_type": "code",
      "execution_count": null,
      "metadata": {
        "colab": {
          "base_uri": "https://localhost:8080/",
          "height": 335
        },
        "id": "Q4bwQjQk1psE",
        "outputId": "2133ef44-1a37-4b5a-fe04-515bfb0bbb63"
      },
      "outputs": [
        {
          "data": {
            "text/html": [
              "<div>\n",
              "<style scoped>\n",
              "    .dataframe tbody tr th:only-of-type {\n",
              "        vertical-align: middle;\n",
              "    }\n",
              "\n",
              "    .dataframe tbody tr th {\n",
              "        vertical-align: top;\n",
              "    }\n",
              "\n",
              "    .dataframe thead th {\n",
              "        text-align: right;\n",
              "    }\n",
              "</style>\n",
              "<table border=\"1\" class=\"dataframe\">\n",
              "  <thead>\n",
              "    <tr style=\"text-align: right;\">\n",
              "      <th></th>\n",
              "      <th>0</th>\n",
              "    </tr>\n",
              "  </thead>\n",
              "  <tbody>\n",
              "    <tr>\n",
              "      <th>id</th>\n",
              "      <td>0</td>\n",
              "    </tr>\n",
              "    <tr>\n",
              "      <th>channel</th>\n",
              "      <td>0</td>\n",
              "    </tr>\n",
              "    <tr>\n",
              "      <th>post_author</th>\n",
              "      <td>17149</td>\n",
              "    </tr>\n",
              "    <tr>\n",
              "      <th>reactions</th>\n",
              "      <td>10279</td>\n",
              "    </tr>\n",
              "    <tr>\n",
              "      <th>media</th>\n",
              "      <td>452</td>\n",
              "    </tr>\n",
              "    <tr>\n",
              "      <th>views</th>\n",
              "      <td>183</td>\n",
              "    </tr>\n",
              "    <tr>\n",
              "      <th>date</th>\n",
              "      <td>0</td>\n",
              "    </tr>\n",
              "    <tr>\n",
              "      <th>message</th>\n",
              "      <td>183</td>\n",
              "    </tr>\n",
              "  </tbody>\n",
              "</table>\n",
              "</div><br><label><b>dtype:</b> int64</label>"
            ],
            "text/plain": [
              "id                 0\n",
              "channel            0\n",
              "post_author    17149\n",
              "reactions      10279\n",
              "media            452\n",
              "views            183\n",
              "date               0\n",
              "message          183\n",
              "dtype: int64"
            ]
          },
          "execution_count": 18,
          "metadata": {},
          "output_type": "execute_result"
        }
      ],
      "source": [
        "ecommerce_message_df.isnull().sum()"
      ]
    },
    {
      "cell_type": "code",
      "execution_count": null,
      "metadata": {
        "colab": {
          "base_uri": "https://localhost:8080/"
        },
        "id": "vSJytsgg4Jt2",
        "outputId": "5f5af485-ce24-444e-cee4-3787f141b77c"
      },
      "outputs": [
        {
          "name": "stderr",
          "output_type": "stream",
          "text": [
            "/tmp/ipython-input-19-2138483934.py:1: SettingWithCopyWarning: \n",
            "A value is trying to be set on a copy of a slice from a DataFrame\n",
            "\n",
            "See the caveats in the documentation: https://pandas.pydata.org/pandas-docs/stable/user_guide/indexing.html#returning-a-view-versus-a-copy\n",
            "  ecommerce_message_df.dropna(subset=[\"message\"] , inplace=True)\n"
          ]
        }
      ],
      "source": [
        "ecommerce_message_df.dropna(subset=[\"message\"] , inplace=True)"
      ]
    },
    {
      "cell_type": "code",
      "execution_count": null,
      "metadata": {
        "colab": {
          "base_uri": "https://localhost:8080/",
          "height": 335
        },
        "id": "jBpRzUvt5FNp",
        "outputId": "7a2f5099-dbe9-46af-a7f7-e38257660a0f"
      },
      "outputs": [
        {
          "data": {
            "text/html": [
              "<div>\n",
              "<style scoped>\n",
              "    .dataframe tbody tr th:only-of-type {\n",
              "        vertical-align: middle;\n",
              "    }\n",
              "\n",
              "    .dataframe tbody tr th {\n",
              "        vertical-align: top;\n",
              "    }\n",
              "\n",
              "    .dataframe thead th {\n",
              "        text-align: right;\n",
              "    }\n",
              "</style>\n",
              "<table border=\"1\" class=\"dataframe\">\n",
              "  <thead>\n",
              "    <tr style=\"text-align: right;\">\n",
              "      <th></th>\n",
              "      <th>0</th>\n",
              "    </tr>\n",
              "  </thead>\n",
              "  <tbody>\n",
              "    <tr>\n",
              "      <th>id</th>\n",
              "      <td>0</td>\n",
              "    </tr>\n",
              "    <tr>\n",
              "      <th>channel</th>\n",
              "      <td>0</td>\n",
              "    </tr>\n",
              "    <tr>\n",
              "      <th>post_author</th>\n",
              "      <td>16966</td>\n",
              "    </tr>\n",
              "    <tr>\n",
              "      <th>reactions</th>\n",
              "      <td>10100</td>\n",
              "    </tr>\n",
              "    <tr>\n",
              "      <th>media</th>\n",
              "      <td>269</td>\n",
              "    </tr>\n",
              "    <tr>\n",
              "      <th>views</th>\n",
              "      <td>0</td>\n",
              "    </tr>\n",
              "    <tr>\n",
              "      <th>date</th>\n",
              "      <td>0</td>\n",
              "    </tr>\n",
              "    <tr>\n",
              "      <th>message</th>\n",
              "      <td>0</td>\n",
              "    </tr>\n",
              "  </tbody>\n",
              "</table>\n",
              "</div><br><label><b>dtype:</b> int64</label>"
            ],
            "text/plain": [
              "id                 0\n",
              "channel            0\n",
              "post_author    16966\n",
              "reactions      10100\n",
              "media            269\n",
              "views              0\n",
              "date               0\n",
              "message            0\n",
              "dtype: int64"
            ]
          },
          "execution_count": 20,
          "metadata": {},
          "output_type": "execute_result"
        }
      ],
      "source": [
        "ecommerce_message_df.isnull().sum()"
      ]
    },
    {
      "cell_type": "code",
      "execution_count": null,
      "metadata": {
        "colab": {
          "base_uri": "https://localhost:8080/"
        },
        "id": "OXftbrVy5Ghz",
        "outputId": "9bc7b77c-a740-4496-8e2a-863f92023bee"
      },
      "outputs": [
        {
          "name": "stdout",
          "output_type": "stream",
          "text": [
            "<class 'pandas.core.frame.DataFrame'>\n",
            "Index: 24181 entries, 0 to 3697\n",
            "Data columns (total 8 columns):\n",
            " #   Column       Non-Null Count  Dtype              \n",
            "---  ------       --------------  -----              \n",
            " 0   id           24181 non-null  int64              \n",
            " 1   channel      24181 non-null  object             \n",
            " 2   post_author  7215 non-null   object             \n",
            " 3   reactions    14081 non-null  object             \n",
            " 4   media        23912 non-null  object             \n",
            " 5   views        24181 non-null  float64            \n",
            " 6   date         24181 non-null  datetime64[ns, UTC]\n",
            " 7   message      24181 non-null  object             \n",
            "dtypes: datetime64[ns, UTC](1), float64(1), int64(1), object(5)\n",
            "memory usage: 1.7+ MB\n"
          ]
        }
      ],
      "source": [
        "ecommerce_message_df.info()"
      ]
    },
    {
      "cell_type": "code",
      "execution_count": null,
      "metadata": {
        "colab": {
          "base_uri": "https://localhost:8080/",
          "height": 597
        },
        "id": "oV8gYTNPxVLM",
        "outputId": "90e06945-7f98-4d3f-a643-a029fe766ada"
      },
      "outputs": [
        {
          "data": {
            "application/vnd.google.colaboratory.intrinsic+json": {
              "summary": "{\n  \"name\": \"ecommerce_message_df[ecommerce_message_df[\\\"message\\\"] == \\\"\\\"]\",\n  \"rows\": 8719,\n  \"fields\": [\n    {\n      \"column\": \"id\",\n      \"properties\": {\n        \"dtype\": \"number\",\n        \"std\": 2275,\n        \"min\": 4,\n        \"max\": 8473,\n        \"num_unique_values\": 6003,\n        \"samples\": [\n          6586,\n          1624,\n          6595\n        ],\n        \"semantic_type\": \"\",\n        \"description\": \"\"\n      }\n    },\n    {\n      \"column\": \"channel\",\n      \"properties\": {\n        \"dtype\": \"category\",\n        \"num_unique_values\": 5,\n        \"samples\": [\n          \"meneshayeofficial\",\n          \"gebeyaadama\",\n          \"modernshoppingcenter\"\n        ],\n        \"semantic_type\": \"\",\n        \"description\": \"\"\n      }\n    },\n    {\n      \"column\": \"post_author\",\n      \"properties\": {\n        \"dtype\": \"category\",\n        \"num_unique_values\": 13,\n        \"samples\": [\n          \"Abdu Ask\",\n          \"Awel S.\",\n          \"Esa Ale\"\n        ],\n        \"semantic_type\": \"\",\n        \"description\": \"\"\n      }\n    },\n    {\n      \"column\": \"reactions\",\n      \"properties\": {\n        \"dtype\": \"object\",\n        \"semantic_type\": \"\",\n        \"description\": \"\"\n      }\n    },\n    {\n      \"column\": \"media\",\n      \"properties\": {\n        \"dtype\": \"object\",\n        \"semantic_type\": \"\",\n        \"description\": \"\"\n      }\n    },\n    {\n      \"column\": \"views\",\n      \"properties\": {\n        \"dtype\": \"number\",\n        \"std\": 10221.94718684953,\n        \"min\": 12.0,\n        \"max\": 59517.0,\n        \"num_unique_values\": 7590,\n        \"samples\": [\n          7061.0,\n          28566.0,\n          13669.0\n        ],\n        \"semantic_type\": \"\",\n        \"description\": \"\"\n      }\n    },\n    {\n      \"column\": \"date\",\n      \"properties\": {\n        \"dtype\": \"date\",\n        \"min\": \"2019-10-27 10:11:52+00:00\",\n        \"max\": \"2025-06-21 11:55:51+00:00\",\n        \"num_unique_values\": 4375,\n        \"samples\": [\n          \"2024-08-31 17:12:48+00:00\",\n          \"2023-11-30 17:44:29+00:00\",\n          \"2022-03-17 03:30:28+00:00\"\n        ],\n        \"semantic_type\": \"\",\n        \"description\": \"\"\n      }\n    },\n    {\n      \"column\": \"message\",\n      \"properties\": {\n        \"dtype\": \"date\",\n        \"min\": \"\",\n        \"max\": \"\",\n        \"num_unique_values\": 1,\n        \"samples\": [\n          \"\"\n        ],\n        \"semantic_type\": \"\",\n        \"description\": \"\"\n      }\n    }\n  ]\n}",
              "type": "dataframe"
            },
            "text/html": [
              "\n",
              "  <div id=\"df-b6793c3b-bf0c-42b4-bda4-4bac2a293bed\" class=\"colab-df-container\">\n",
              "    <div>\n",
              "<style scoped>\n",
              "    .dataframe tbody tr th:only-of-type {\n",
              "        vertical-align: middle;\n",
              "    }\n",
              "\n",
              "    .dataframe tbody tr th {\n",
              "        vertical-align: top;\n",
              "    }\n",
              "\n",
              "    .dataframe thead th {\n",
              "        text-align: right;\n",
              "    }\n",
              "</style>\n",
              "<table border=\"1\" class=\"dataframe\">\n",
              "  <thead>\n",
              "    <tr style=\"text-align: right;\">\n",
              "      <th></th>\n",
              "      <th>id</th>\n",
              "      <th>channel</th>\n",
              "      <th>post_author</th>\n",
              "      <th>reactions</th>\n",
              "      <th>media</th>\n",
              "      <th>views</th>\n",
              "      <th>date</th>\n",
              "      <th>message</th>\n",
              "    </tr>\n",
              "  </thead>\n",
              "  <tbody>\n",
              "    <tr>\n",
              "      <th>0</th>\n",
              "      <td>6990</td>\n",
              "      <td>ZemenExpress</td>\n",
              "      <td>None</td>\n",
              "      <td>None</td>\n",
              "      <td>{'_': 'MessageMediaPhoto', 'spoiler': False, '...</td>\n",
              "      <td>1321.0</td>\n",
              "      <td>2025-06-21 08:07:31+00:00</td>\n",
              "      <td></td>\n",
              "    </tr>\n",
              "    <tr>\n",
              "      <th>1</th>\n",
              "      <td>6989</td>\n",
              "      <td>ZemenExpress</td>\n",
              "      <td>None</td>\n",
              "      <td>None</td>\n",
              "      <td>{'_': 'MessageMediaPhoto', 'spoiler': False, '...</td>\n",
              "      <td>1322.0</td>\n",
              "      <td>2025-06-21 08:07:31+00:00</td>\n",
              "      <td></td>\n",
              "    </tr>\n",
              "    <tr>\n",
              "      <th>2</th>\n",
              "      <td>6988</td>\n",
              "      <td>ZemenExpress</td>\n",
              "      <td>None</td>\n",
              "      <td>None</td>\n",
              "      <td>{'_': 'MessageMediaPhoto', 'spoiler': False, '...</td>\n",
              "      <td>1312.0</td>\n",
              "      <td>2025-06-21 08:07:31+00:00</td>\n",
              "      <td></td>\n",
              "    </tr>\n",
              "    <tr>\n",
              "      <th>6</th>\n",
              "      <td>6984</td>\n",
              "      <td>ZemenExpress</td>\n",
              "      <td>None</td>\n",
              "      <td>None</td>\n",
              "      <td>{'_': 'MessageMediaPhoto', 'spoiler': False, '...</td>\n",
              "      <td>1530.0</td>\n",
              "      <td>2025-06-21 05:42:19+00:00</td>\n",
              "      <td></td>\n",
              "    </tr>\n",
              "    <tr>\n",
              "      <th>10</th>\n",
              "      <td>6980</td>\n",
              "      <td>ZemenExpress</td>\n",
              "      <td>None</td>\n",
              "      <td>None</td>\n",
              "      <td>{'_': 'MessageMediaPhoto', 'spoiler': False, '...</td>\n",
              "      <td>3785.0</td>\n",
              "      <td>2025-06-16 05:11:57+00:00</td>\n",
              "      <td></td>\n",
              "    </tr>\n",
              "    <tr>\n",
              "      <th>...</th>\n",
              "      <td>...</td>\n",
              "      <td>...</td>\n",
              "      <td>...</td>\n",
              "      <td>...</td>\n",
              "      <td>...</td>\n",
              "      <td>...</td>\n",
              "      <td>...</td>\n",
              "      <td>...</td>\n",
              "    </tr>\n",
              "    <tr>\n",
              "      <th>3688</th>\n",
              "      <td>15</td>\n",
              "      <td>gebeyaadama</td>\n",
              "      <td>NaN</td>\n",
              "      <td>None</td>\n",
              "      <td>{'_': 'MessageMediaPhoto', 'spoiler': False, '...</td>\n",
              "      <td>3700.0</td>\n",
              "      <td>2020-10-05 18:04:46+00:00</td>\n",
              "      <td></td>\n",
              "    </tr>\n",
              "    <tr>\n",
              "      <th>3691</th>\n",
              "      <td>11</td>\n",
              "      <td>gebeyaadama</td>\n",
              "      <td>NaN</td>\n",
              "      <td>None</td>\n",
              "      <td>{'_': 'MessageMediaPhoto', 'spoiler': False, '...</td>\n",
              "      <td>2293.0</td>\n",
              "      <td>2020-10-05 12:08:37+00:00</td>\n",
              "      <td></td>\n",
              "    </tr>\n",
              "    <tr>\n",
              "      <th>3694</th>\n",
              "      <td>6</td>\n",
              "      <td>gebeyaadama</td>\n",
              "      <td>NaN</td>\n",
              "      <td>None</td>\n",
              "      <td>{'_': 'MessageMediaPhoto', 'spoiler': False, '...</td>\n",
              "      <td>1639.0</td>\n",
              "      <td>2020-10-03 13:22:38+00:00</td>\n",
              "      <td></td>\n",
              "    </tr>\n",
              "    <tr>\n",
              "      <th>3695</th>\n",
              "      <td>5</td>\n",
              "      <td>gebeyaadama</td>\n",
              "      <td>NaN</td>\n",
              "      <td>None</td>\n",
              "      <td>{'_': 'MessageMediaPhoto', 'spoiler': False, '...</td>\n",
              "      <td>1208.0</td>\n",
              "      <td>2020-10-03 13:22:37+00:00</td>\n",
              "      <td></td>\n",
              "    </tr>\n",
              "    <tr>\n",
              "      <th>3696</th>\n",
              "      <td>4</td>\n",
              "      <td>gebeyaadama</td>\n",
              "      <td>NaN</td>\n",
              "      <td>None</td>\n",
              "      <td>{'_': 'MessageMediaPhoto', 'spoiler': False, '...</td>\n",
              "      <td>636.0</td>\n",
              "      <td>2020-10-03 12:59:47+00:00</td>\n",
              "      <td></td>\n",
              "    </tr>\n",
              "  </tbody>\n",
              "</table>\n",
              "<p>8719 rows × 8 columns</p>\n",
              "</div>\n",
              "    <div class=\"colab-df-buttons\">\n",
              "\n",
              "  <div class=\"colab-df-container\">\n",
              "    <button class=\"colab-df-convert\" onclick=\"convertToInteractive('df-b6793c3b-bf0c-42b4-bda4-4bac2a293bed')\"\n",
              "            title=\"Convert this dataframe to an interactive table.\"\n",
              "            style=\"display:none;\">\n",
              "\n",
              "  <svg xmlns=\"http://www.w3.org/2000/svg\" height=\"24px\" viewBox=\"0 -960 960 960\">\n",
              "    <path d=\"M120-120v-720h720v720H120Zm60-500h600v-160H180v160Zm220 220h160v-160H400v160Zm0 220h160v-160H400v160ZM180-400h160v-160H180v160Zm440 0h160v-160H620v160ZM180-180h160v-160H180v160Zm440 0h160v-160H620v160Z\"/>\n",
              "  </svg>\n",
              "    </button>\n",
              "\n",
              "  <style>\n",
              "    .colab-df-container {\n",
              "      display:flex;\n",
              "      gap: 12px;\n",
              "    }\n",
              "\n",
              "    .colab-df-convert {\n",
              "      background-color: #E8F0FE;\n",
              "      border: none;\n",
              "      border-radius: 50%;\n",
              "      cursor: pointer;\n",
              "      display: none;\n",
              "      fill: #1967D2;\n",
              "      height: 32px;\n",
              "      padding: 0 0 0 0;\n",
              "      width: 32px;\n",
              "    }\n",
              "\n",
              "    .colab-df-convert:hover {\n",
              "      background-color: #E2EBFA;\n",
              "      box-shadow: 0px 1px 2px rgba(60, 64, 67, 0.3), 0px 1px 3px 1px rgba(60, 64, 67, 0.15);\n",
              "      fill: #174EA6;\n",
              "    }\n",
              "\n",
              "    .colab-df-buttons div {\n",
              "      margin-bottom: 4px;\n",
              "    }\n",
              "\n",
              "    [theme=dark] .colab-df-convert {\n",
              "      background-color: #3B4455;\n",
              "      fill: #D2E3FC;\n",
              "    }\n",
              "\n",
              "    [theme=dark] .colab-df-convert:hover {\n",
              "      background-color: #434B5C;\n",
              "      box-shadow: 0px 1px 3px 1px rgba(0, 0, 0, 0.15);\n",
              "      filter: drop-shadow(0px 1px 2px rgba(0, 0, 0, 0.3));\n",
              "      fill: #FFFFFF;\n",
              "    }\n",
              "  </style>\n",
              "\n",
              "    <script>\n",
              "      const buttonEl =\n",
              "        document.querySelector('#df-b6793c3b-bf0c-42b4-bda4-4bac2a293bed button.colab-df-convert');\n",
              "      buttonEl.style.display =\n",
              "        google.colab.kernel.accessAllowed ? 'block' : 'none';\n",
              "\n",
              "      async function convertToInteractive(key) {\n",
              "        const element = document.querySelector('#df-b6793c3b-bf0c-42b4-bda4-4bac2a293bed');\n",
              "        const dataTable =\n",
              "          await google.colab.kernel.invokeFunction('convertToInteractive',\n",
              "                                                    [key], {});\n",
              "        if (!dataTable) return;\n",
              "\n",
              "        const docLinkHtml = 'Like what you see? Visit the ' +\n",
              "          '<a target=\"_blank\" href=https://colab.research.google.com/notebooks/data_table.ipynb>data table notebook</a>'\n",
              "          + ' to learn more about interactive tables.';\n",
              "        element.innerHTML = '';\n",
              "        dataTable['output_type'] = 'display_data';\n",
              "        await google.colab.output.renderOutput(dataTable, element);\n",
              "        const docLink = document.createElement('div');\n",
              "        docLink.innerHTML = docLinkHtml;\n",
              "        element.appendChild(docLink);\n",
              "      }\n",
              "    </script>\n",
              "  </div>\n",
              "\n",
              "\n",
              "    <div id=\"df-2e19ece5-832c-4914-8ff4-94df91fe7012\">\n",
              "      <button class=\"colab-df-quickchart\" onclick=\"quickchart('df-2e19ece5-832c-4914-8ff4-94df91fe7012')\"\n",
              "                title=\"Suggest charts\"\n",
              "                style=\"display:none;\">\n",
              "\n",
              "<svg xmlns=\"http://www.w3.org/2000/svg\" height=\"24px\"viewBox=\"0 0 24 24\"\n",
              "     width=\"24px\">\n",
              "    <g>\n",
              "        <path d=\"M19 3H5c-1.1 0-2 .9-2 2v14c0 1.1.9 2 2 2h14c1.1 0 2-.9 2-2V5c0-1.1-.9-2-2-2zM9 17H7v-7h2v7zm4 0h-2V7h2v10zm4 0h-2v-4h2v4z\"/>\n",
              "    </g>\n",
              "</svg>\n",
              "      </button>\n",
              "\n",
              "<style>\n",
              "  .colab-df-quickchart {\n",
              "      --bg-color: #E8F0FE;\n",
              "      --fill-color: #1967D2;\n",
              "      --hover-bg-color: #E2EBFA;\n",
              "      --hover-fill-color: #174EA6;\n",
              "      --disabled-fill-color: #AAA;\n",
              "      --disabled-bg-color: #DDD;\n",
              "  }\n",
              "\n",
              "  [theme=dark] .colab-df-quickchart {\n",
              "      --bg-color: #3B4455;\n",
              "      --fill-color: #D2E3FC;\n",
              "      --hover-bg-color: #434B5C;\n",
              "      --hover-fill-color: #FFFFFF;\n",
              "      --disabled-bg-color: #3B4455;\n",
              "      --disabled-fill-color: #666;\n",
              "  }\n",
              "\n",
              "  .colab-df-quickchart {\n",
              "    background-color: var(--bg-color);\n",
              "    border: none;\n",
              "    border-radius: 50%;\n",
              "    cursor: pointer;\n",
              "    display: none;\n",
              "    fill: var(--fill-color);\n",
              "    height: 32px;\n",
              "    padding: 0;\n",
              "    width: 32px;\n",
              "  }\n",
              "\n",
              "  .colab-df-quickchart:hover {\n",
              "    background-color: var(--hover-bg-color);\n",
              "    box-shadow: 0 1px 2px rgba(60, 64, 67, 0.3), 0 1px 3px 1px rgba(60, 64, 67, 0.15);\n",
              "    fill: var(--button-hover-fill-color);\n",
              "  }\n",
              "\n",
              "  .colab-df-quickchart-complete:disabled,\n",
              "  .colab-df-quickchart-complete:disabled:hover {\n",
              "    background-color: var(--disabled-bg-color);\n",
              "    fill: var(--disabled-fill-color);\n",
              "    box-shadow: none;\n",
              "  }\n",
              "\n",
              "  .colab-df-spinner {\n",
              "    border: 2px solid var(--fill-color);\n",
              "    border-color: transparent;\n",
              "    border-bottom-color: var(--fill-color);\n",
              "    animation:\n",
              "      spin 1s steps(1) infinite;\n",
              "  }\n",
              "\n",
              "  @keyframes spin {\n",
              "    0% {\n",
              "      border-color: transparent;\n",
              "      border-bottom-color: var(--fill-color);\n",
              "      border-left-color: var(--fill-color);\n",
              "    }\n",
              "    20% {\n",
              "      border-color: transparent;\n",
              "      border-left-color: var(--fill-color);\n",
              "      border-top-color: var(--fill-color);\n",
              "    }\n",
              "    30% {\n",
              "      border-color: transparent;\n",
              "      border-left-color: var(--fill-color);\n",
              "      border-top-color: var(--fill-color);\n",
              "      border-right-color: var(--fill-color);\n",
              "    }\n",
              "    40% {\n",
              "      border-color: transparent;\n",
              "      border-right-color: var(--fill-color);\n",
              "      border-top-color: var(--fill-color);\n",
              "    }\n",
              "    60% {\n",
              "      border-color: transparent;\n",
              "      border-right-color: var(--fill-color);\n",
              "    }\n",
              "    80% {\n",
              "      border-color: transparent;\n",
              "      border-right-color: var(--fill-color);\n",
              "      border-bottom-color: var(--fill-color);\n",
              "    }\n",
              "    90% {\n",
              "      border-color: transparent;\n",
              "      border-bottom-color: var(--fill-color);\n",
              "    }\n",
              "  }\n",
              "</style>\n",
              "\n",
              "      <script>\n",
              "        async function quickchart(key) {\n",
              "          const quickchartButtonEl =\n",
              "            document.querySelector('#' + key + ' button');\n",
              "          quickchartButtonEl.disabled = true;  // To prevent multiple clicks.\n",
              "          quickchartButtonEl.classList.add('colab-df-spinner');\n",
              "          try {\n",
              "            const charts = await google.colab.kernel.invokeFunction(\n",
              "                'suggestCharts', [key], {});\n",
              "          } catch (error) {\n",
              "            console.error('Error during call to suggestCharts:', error);\n",
              "          }\n",
              "          quickchartButtonEl.classList.remove('colab-df-spinner');\n",
              "          quickchartButtonEl.classList.add('colab-df-quickchart-complete');\n",
              "        }\n",
              "        (() => {\n",
              "          let quickchartButtonEl =\n",
              "            document.querySelector('#df-2e19ece5-832c-4914-8ff4-94df91fe7012 button');\n",
              "          quickchartButtonEl.style.display =\n",
              "            google.colab.kernel.accessAllowed ? 'block' : 'none';\n",
              "        })();\n",
              "      </script>\n",
              "    </div>\n",
              "\n",
              "    </div>\n",
              "  </div>\n"
            ],
            "text/plain": [
              "        id       channel post_author reactions  \\\n",
              "0     6990  ZemenExpress        None      None   \n",
              "1     6989  ZemenExpress        None      None   \n",
              "2     6988  ZemenExpress        None      None   \n",
              "6     6984  ZemenExpress        None      None   \n",
              "10    6980  ZemenExpress        None      None   \n",
              "...    ...           ...         ...       ...   \n",
              "3688    15   gebeyaadama         NaN      None   \n",
              "3691    11   gebeyaadama         NaN      None   \n",
              "3694     6   gebeyaadama         NaN      None   \n",
              "3695     5   gebeyaadama         NaN      None   \n",
              "3696     4   gebeyaadama         NaN      None   \n",
              "\n",
              "                                                  media   views  \\\n",
              "0     {'_': 'MessageMediaPhoto', 'spoiler': False, '...  1321.0   \n",
              "1     {'_': 'MessageMediaPhoto', 'spoiler': False, '...  1322.0   \n",
              "2     {'_': 'MessageMediaPhoto', 'spoiler': False, '...  1312.0   \n",
              "6     {'_': 'MessageMediaPhoto', 'spoiler': False, '...  1530.0   \n",
              "10    {'_': 'MessageMediaPhoto', 'spoiler': False, '...  3785.0   \n",
              "...                                                 ...     ...   \n",
              "3688  {'_': 'MessageMediaPhoto', 'spoiler': False, '...  3700.0   \n",
              "3691  {'_': 'MessageMediaPhoto', 'spoiler': False, '...  2293.0   \n",
              "3694  {'_': 'MessageMediaPhoto', 'spoiler': False, '...  1639.0   \n",
              "3695  {'_': 'MessageMediaPhoto', 'spoiler': False, '...  1208.0   \n",
              "3696  {'_': 'MessageMediaPhoto', 'spoiler': False, '...   636.0   \n",
              "\n",
              "                          date message  \n",
              "0    2025-06-21 08:07:31+00:00          \n",
              "1    2025-06-21 08:07:31+00:00          \n",
              "2    2025-06-21 08:07:31+00:00          \n",
              "6    2025-06-21 05:42:19+00:00          \n",
              "10   2025-06-16 05:11:57+00:00          \n",
              "...                        ...     ...  \n",
              "3688 2020-10-05 18:04:46+00:00          \n",
              "3691 2020-10-05 12:08:37+00:00          \n",
              "3694 2020-10-03 13:22:38+00:00          \n",
              "3695 2020-10-03 13:22:37+00:00          \n",
              "3696 2020-10-03 12:59:47+00:00          \n",
              "\n",
              "[8719 rows x 8 columns]"
            ]
          },
          "execution_count": 22,
          "metadata": {},
          "output_type": "execute_result"
        }
      ],
      "source": [
        "ecommerce_message_df[ecommerce_message_df[\"message\"] == \"\"]"
      ]
    },
    {
      "cell_type": "code",
      "execution_count": null,
      "metadata": {
        "id": "Ah_BltgUxnt0"
      },
      "outputs": [],
      "source": [
        "ecommerce_message_df = ecommerce_message_df[ecommerce_message_df[\"message\"] != \"\"]"
      ]
    },
    {
      "cell_type": "code",
      "execution_count": null,
      "metadata": {
        "id": "0IkDLXaws5kw"
      },
      "outputs": [],
      "source": [
        "ecommerce_message_df[\"processed_text\"] = ecommerce_message_df[\"message\"].apply(scrap_process.preprocess)"
      ]
    },
    {
      "cell_type": "code",
      "execution_count": 60,
      "metadata": {
        "colab": {
          "base_uri": "https://localhost:8080/",
          "height": 241
        },
        "id": "UcNIhVxayYvg",
        "outputId": "41351908-df9a-49c9-a34a-fabec9fb6a56"
      },
      "outputs": [
        {
          "data": {
            "text/html": [
              "<div>\n",
              "<style scoped>\n",
              "    .dataframe tbody tr th:only-of-type {\n",
              "        vertical-align: middle;\n",
              "    }\n",
              "\n",
              "    .dataframe tbody tr th {\n",
              "        vertical-align: top;\n",
              "    }\n",
              "\n",
              "    .dataframe thead th {\n",
              "        text-align: right;\n",
              "    }\n",
              "</style>\n",
              "<table border=\"1\" class=\"dataframe\">\n",
              "  <thead>\n",
              "    <tr style=\"text-align: right;\">\n",
              "      <th></th>\n",
              "      <th>processed_text</th>\n",
              "    </tr>\n",
              "  </thead>\n",
              "  <tbody>\n",
              "    <tr>\n",
              "      <th>3</th>\n",
              "      <td>3pcs Bottle Stopper በማንኛውም ጠርሙስ ጫፍ የሚገጠም ለዘይት ...</td>\n",
              "    </tr>\n",
              "    <tr>\n",
              "      <th>4</th>\n",
              "      <td>3pcs Bottle Stopper በማንኛውም ጠርሙስ ጫፍ የሚገጠም ለዘይት ...</td>\n",
              "    </tr>\n",
              "    <tr>\n",
              "      <th>5</th>\n",
              "      <td>1 pairs Sneaker Crease Protector ዋጋ 400 ብር ውስን...</td>\n",
              "    </tr>\n",
              "    <tr>\n",
              "      <th>7</th>\n",
              "      <td>1 pairs Sneaker Crease Protector ዋጋ 400 ብር ውስን...</td>\n",
              "    </tr>\n",
              "    <tr>\n",
              "      <th>8</th>\n",
              "      <td>Imitation Volcano Humidifier with LED Light በኤ...</td>\n",
              "    </tr>\n",
              "  </tbody>\n",
              "</table>\n",
              "</div><br><label><b>dtype:</b> object</label>"
            ],
            "text/plain": [
              "3    3pcs Bottle Stopper በማንኛውም ጠርሙስ ጫፍ የሚገጠም ለዘይት ...\n",
              "4    3pcs Bottle Stopper በማንኛውም ጠርሙስ ጫፍ የሚገጠም ለዘይት ...\n",
              "5    1 pairs Sneaker Crease Protector ዋጋ 400 ብር ውስን...\n",
              "7    1 pairs Sneaker Crease Protector ዋጋ 400 ብር ውስን...\n",
              "8    Imitation Volcano Humidifier with LED Light በኤ...\n",
              "Name: processed_text, dtype: object"
            ]
          },
          "execution_count": 60,
          "metadata": {},
          "output_type": "execute_result"
        }
      ],
      "source": [
        "ecommerce_message_df[\"processed_text\"].head()"
      ]
    },
    {
      "cell_type": "code",
      "execution_count": 61,
      "metadata": {
        "id": "aD2c436t7f95"
      },
      "outputs": [],
      "source": [
        "ecommerce_message_df[\"processed_text\"] = ecommerce_message_df[\"processed_text\"].apply(lambda x : x.split())"
      ]
    },
    {
      "cell_type": "code",
      "execution_count": 62,
      "metadata": {
        "colab": {
          "base_uri": "https://localhost:8080/",
          "height": 241
        },
        "id": "4W3TiFJ98is_",
        "outputId": "1083d917-191d-4c9d-d28f-2fd608beef3f"
      },
      "outputs": [
        {
          "data": {
            "text/html": [
              "<div>\n",
              "<style scoped>\n",
              "    .dataframe tbody tr th:only-of-type {\n",
              "        vertical-align: middle;\n",
              "    }\n",
              "\n",
              "    .dataframe tbody tr th {\n",
              "        vertical-align: top;\n",
              "    }\n",
              "\n",
              "    .dataframe thead th {\n",
              "        text-align: right;\n",
              "    }\n",
              "</style>\n",
              "<table border=\"1\" class=\"dataframe\">\n",
              "  <thead>\n",
              "    <tr style=\"text-align: right;\">\n",
              "      <th></th>\n",
              "      <th>processed_text</th>\n",
              "    </tr>\n",
              "  </thead>\n",
              "  <tbody>\n",
              "    <tr>\n",
              "      <th>3</th>\n",
              "      <td>[3pcs, Bottle, Stopper, በማንኛውም, ጠርሙስ, ጫፍ, የሚገጠ...</td>\n",
              "    </tr>\n",
              "    <tr>\n",
              "      <th>4</th>\n",
              "      <td>[3pcs, Bottle, Stopper, በማንኛውም, ጠርሙስ, ጫፍ, የሚገጠ...</td>\n",
              "    </tr>\n",
              "    <tr>\n",
              "      <th>5</th>\n",
              "      <td>[1, pairs, Sneaker, Crease, Protector, ዋጋ, 400...</td>\n",
              "    </tr>\n",
              "    <tr>\n",
              "      <th>7</th>\n",
              "      <td>[1, pairs, Sneaker, Crease, Protector, ዋጋ, 400...</td>\n",
              "    </tr>\n",
              "    <tr>\n",
              "      <th>8</th>\n",
              "      <td>[Imitation, Volcano, Humidifier, with, LED, Li...</td>\n",
              "    </tr>\n",
              "  </tbody>\n",
              "</table>\n",
              "</div><br><label><b>dtype:</b> object</label>"
            ],
            "text/plain": [
              "3    [3pcs, Bottle, Stopper, በማንኛውም, ጠርሙስ, ጫፍ, የሚገጠ...\n",
              "4    [3pcs, Bottle, Stopper, በማንኛውም, ጠርሙስ, ጫፍ, የሚገጠ...\n",
              "5    [1, pairs, Sneaker, Crease, Protector, ዋጋ, 400...\n",
              "7    [1, pairs, Sneaker, Crease, Protector, ዋጋ, 400...\n",
              "8    [Imitation, Volcano, Humidifier, with, LED, Li...\n",
              "Name: processed_text, dtype: object"
            ]
          },
          "execution_count": 62,
          "metadata": {},
          "output_type": "execute_result"
        }
      ],
      "source": [
        "ecommerce_message_df[\"processed_text\"].head()"
      ]
    },
    {
      "cell_type": "code",
      "execution_count": null,
      "metadata": {
        "id": "r4hYPcHhwKr0"
      },
      "outputs": [],
      "source": [
        "ecommerce_message_df.to_csv(\"../data/ecommerce_channel_data.csv\" , index = False)"
      ]
    },
    {
      "cell_type": "code",
      "execution_count": null,
      "metadata": {
        "id": "wM3qRV7k6AzM"
      },
      "outputs": [],
      "source": []
    }
  ],
  "metadata": {
    "colab": {
      "provenance": []
    },
    "kernelspec": {
      "display_name": "env",
      "language": "python",
      "name": "python3"
    },
    "language_info": {
      "codemirror_mode": {
        "name": "ipython",
        "version": 3
      },
      "file_extension": ".py",
      "mimetype": "text/x-python",
      "name": "python",
      "nbconvert_exporter": "python",
      "pygments_lexer": "ipython3",
      "version": "3.13.5"
    }
  },
  "nbformat": 4,
  "nbformat_minor": 0
}
