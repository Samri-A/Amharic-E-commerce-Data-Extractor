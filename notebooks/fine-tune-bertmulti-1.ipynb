{
 "cells": [
  {
   "cell_type": "code",
   "execution_count": null,
   "metadata": {},
   "outputs": [],
   "source": [
    "import sys\n",
    "sys.path.append('./scripts')\n",
    "import FinetuneNER"
   ]
  },
  {
   "cell_type": "code",
   "execution_count": 4,
   "metadata": {
    "execution": {
     "iopub.execute_input": "2025-06-24T16:39:52.406796Z",
     "iopub.status.busy": "2025-06-24T16:39:52.406515Z",
     "iopub.status.idle": "2025-06-24T16:40:29.516753Z",
     "shell.execute_reply": "2025-06-24T16:40:29.516023Z",
     "shell.execute_reply.started": "2025-06-24T16:39:52.406763Z"
    },
    "trusted": true
   },
   "outputs": [
    {
     "name": "stderr",
     "output_type": "stream",
     "text": [
      "2025-06-24 16:40:09.887349: E external/local_xla/xla/stream_executor/cuda/cuda_fft.cc:477] Unable to register cuFFT factory: Attempting to register factory for plugin cuFFT when one has already been registered\n",
      "WARNING: All log messages before absl::InitializeLog() is called are written to STDERR\n",
      "E0000 00:00:1750783210.104089      35 cuda_dnn.cc:8310] Unable to register cuDNN factory: Attempting to register factory for plugin cuDNN when one has already been registered\n",
      "E0000 00:00:1750783210.163779      35 cuda_blas.cc:1418] Unable to register cuBLAS factory: Attempting to register factory for plugin cuBLAS when one has already been registered\n"
     ]
    }
   ],
   "source": [
    "from transformers import Trainer , AutoTokenizer , TrainingArguments , DataCollatorForTokenClassification , DataCollatorWithPadding , AutoModelForTokenClassification\n",
    "import pandas as pd\n",
    "from datasets import Dataset \n",
    "from sklearn.model_selection import train_test_split\n",
    "import numpy as np\n",
    "from sklearn.preprocessing import LabelEncoder\n",
    "import evaluate\n",
    "import random"
   ]
  },
  {
   "cell_type": "code",
   "execution_count": null,
   "metadata": {
    "execution": {
     "iopub.execute_input": "2025-06-24T16:40:29.519373Z",
     "iopub.status.busy": "2025-06-24T16:40:29.518817Z",
     "iopub.status.idle": "2025-06-24T16:40:29.592372Z",
     "shell.execute_reply": "2025-06-24T16:40:29.591273Z",
     "shell.execute_reply.started": "2025-06-24T16:40:29.519350Z"
    },
    "trusted": true
   },
   "outputs": [
    {
     "name": "stdout",
     "output_type": "stream",
     "text": [
      "{'tokens': ['በኤሌትሪክ', 'የሚሰራ', 'ምጣድ', 'ለፈጢራ', 'ለቂጣ', 'ለአምባሻና', 'ለተለያዩ', 'ነገሮች', 'መጋገሪያነት', 'የሚያገለግል', 'በተጨማሪም', 'ቡና', 'ለመቁላት', 'የሚመች', 'በአነስተኛ', 'የኤሌትሪክ', 'ሀይል', 'የሚሰራ', 'እጄታዉ', 'የማያቃጥል', 'ማቴሪያል', 'ሶኬቱ', 'ላይ', 'የሀይል', 'መቆጣጠሪያ', 'ፊዉዝ', 'የተገጠመለት', 'አድራሻ', 'መገናኛ', 'ስሪ', 'ኤም', 'ሲቲ', 'ሞል', 'ሁለተኛ', 'ፎቅ', 'ቢሮ', 'ቁ', 'ሊፍቱ', 'ፊት', 'ለ', 'ፊት', '0909522840', '0923350054', 'ለማዘዝ', 'ይጠቀሙ', 'ለተጨማሪ', 'ማብራሪያ', 'የቴሌግራም', 'ገፃችን'], 'ner_tags': ['B-PRODUCT', 'I-PRODUCT', 'O', 'O', 'O', 'O', 'O', 'O', 'O', 'O', 'O', 'O', 'O', 'O', 'O', 'O', 'O', 'O', 'O', 'O', 'O', 'O', 'O', 'O', 'O', 'O', 'O', 'B-LOC', 'I-LOC', 'I-LOC', 'I-LOC', 'I-LOC', 'I-LOC', 'I-LOC', 'I-LOC', 'O', 'O', 'O', 'O', 'O', 'O', 'O', 'O', 'O', 'O', 'O', 'O', 'O', 'O']}\n"
     ]
    },
    {
     "name": "stderr",
     "output_type": "stream",
     "text": [
      "/tmp/ipykernel_35/2797670705.py:10: FutureWarning: A value is trying to be set on a copy of a DataFrame or Series through chained assignment using an inplace method.\n",
      "The behavior will change in pandas 3.0. This inplace method will never work because the intermediate object on which we are setting values always behaves as a copy.\n",
      "\n",
      "For example, when doing 'df[col].method(value, inplace=True)', try using 'df.method({col: value}, inplace=True)' or df[col] = df[col].method(value) instead, to perform the operation inplace on the original object.\n",
      "\n",
      "\n",
      "  df[\"text\"].replace(\"\", pd.NA, inplace=True)\n"
     ]
    }
   ],
   "source": [
    "df = pd.read_csv(\n",
    "    \"/kaggle/input/amhar-ner/ner_auto_labels.conll\", #replace with your CONLL file path\n",
    "    sep=\"\\s+\",\n",
    "    names=[\"text\", \"label\"],\n",
    "    skip_blank_lines=False,\n",
    "    engine=\"python\"\n",
    ")\n",
    "\n",
    "# Replace empty lines with NaN to mark sentence boundaries\n",
    "df[\"text\"].replace(\"\", pd.NA, inplace=True)\n",
    "\n",
    "# Create sentence groups (each group = one sentence)\n",
    "df[\"sentence_id\"] = df[\"text\"].isna().cumsum()\n",
    "\n",
    "# Drop empty rows\n",
    "df = df.dropna()\n",
    "\n",
    "# Group by sentence\n",
    "grouped = df.groupby(\"sentence_id\").agg({\n",
    "    \"text\": list,\n",
    "    \"label\": list\n",
    "}).reset_index(drop=True)\n",
    "\n",
    "\n",
    "# Rename columns to match expected format\n",
    "grouped.columns = [\"tokens\", \"ner_tags\"]\n",
    "\n",
    "# Now your grouped DataFrame is ready for Dataset.from_pandas()\n",
    "\n",
    "ner_dataset = Dataset.from_pandas(grouped)\n",
    "\n",
    "print(ner_dataset[0])"
   ]
  },
  {
   "cell_type": "code",
   "execution_count": 6,
   "metadata": {
    "execution": {
     "iopub.execute_input": "2025-06-24T16:40:29.593581Z",
     "iopub.status.busy": "2025-06-24T16:40:29.593257Z",
     "iopub.status.idle": "2025-06-24T16:40:29.651946Z",
     "shell.execute_reply": "2025-06-24T16:40:29.650917Z",
     "shell.execute_reply.started": "2025-06-24T16:40:29.593549Z"
    },
    "trusted": true
   },
   "outputs": [
    {
     "data": {
      "application/vnd.jupyter.widget-view+json": {
       "model_id": "462b064d3abb488e80d38250eb1cd034",
       "version_major": 2,
       "version_minor": 0
      },
      "text/plain": [
       "Map:   0%|          | 0/99 [00:00<?, ? examples/s]"
      ]
     },
     "metadata": {},
     "output_type": "display_data"
    }
   ],
   "source": [
    "label_list = sorted(set(label for tags in ner_dataset[\"ner_tags\"] for label in tags))\n",
    "label_to_id = {label: idx for idx, label in enumerate(label_list)}\n",
    "id_to_label = {idx: label for label, idx in label_to_id.items()}\n",
    "\n",
    "# Encode ner_tags\n",
    "ner_dataset = ner_dataset.map(\n",
    "    lambda example: {\"ner_tags\": [label_to_id[label] for label in example[\"ner_tags\"]]}\n",
    ")"
   ]
  },
  {
   "cell_type": "code",
   "execution_count": 7,
   "metadata": {
    "execution": {
     "iopub.execute_input": "2025-06-24T16:40:29.653353Z",
     "iopub.status.busy": "2025-06-24T16:40:29.652957Z",
     "iopub.status.idle": "2025-06-24T16:40:29.664889Z",
     "shell.execute_reply": "2025-06-24T16:40:29.663930Z",
     "shell.execute_reply.started": "2025-06-24T16:40:29.653329Z"
    },
    "trusted": true
   },
   "outputs": [],
   "source": [
    "split_dataset = ner_dataset.train_test_split(test_size=0.1)"
   ]
  },
  {
   "cell_type": "code",
   "execution_count": 9,
   "metadata": {
    "execution": {
     "iopub.execute_input": "2025-06-24T16:40:29.680306Z",
     "iopub.status.busy": "2025-06-24T16:40:29.679929Z",
     "iopub.status.idle": "2025-06-24T16:40:32.310536Z",
     "shell.execute_reply": "2025-06-24T16:40:32.309767Z",
     "shell.execute_reply.started": "2025-06-24T16:40:29.680266Z"
    },
    "trusted": true
   },
   "outputs": [
    {
     "data": {
      "application/vnd.jupyter.widget-view+json": {
       "model_id": "c864008a03494984a3ed6ca339e88954",
       "version_major": 2,
       "version_minor": 0
      },
      "text/plain": [
       "tokenizer_config.json:   0%|          | 0.00/49.0 [00:00<?, ?B/s]"
      ]
     },
     "metadata": {},
     "output_type": "display_data"
    },
    {
     "data": {
      "application/vnd.jupyter.widget-view+json": {
       "model_id": "13a54ddf849d49e68f1b01448a3f564e",
       "version_major": 2,
       "version_minor": 0
      },
      "text/plain": [
       "config.json:   0%|          | 0.00/625 [00:00<?, ?B/s]"
      ]
     },
     "metadata": {},
     "output_type": "display_data"
    },
    {
     "data": {
      "application/vnd.jupyter.widget-view+json": {
       "model_id": "ed21bfd47c264dd291a7c6c6b0abfa15",
       "version_major": 2,
       "version_minor": 0
      },
      "text/plain": [
       "vocab.txt:   0%|          | 0.00/996k [00:00<?, ?B/s]"
      ]
     },
     "metadata": {},
     "output_type": "display_data"
    },
    {
     "data": {
      "application/vnd.jupyter.widget-view+json": {
       "model_id": "91674188b2554ee4a3bda01d09a0985b",
       "version_major": 2,
       "version_minor": 0
      },
      "text/plain": [
       "tokenizer.json:   0%|          | 0.00/1.96M [00:00<?, ?B/s]"
      ]
     },
     "metadata": {},
     "output_type": "display_data"
    },
    {
     "data": {
      "application/vnd.jupyter.widget-view+json": {
       "model_id": "95a7a08d549241f2a1d97c36cc1b1b66",
       "version_major": 2,
       "version_minor": 0
      },
      "text/plain": [
       "Downloading builder script:   0%|          | 0.00/6.34k [00:00<?, ?B/s]"
      ]
     },
     "metadata": {},
     "output_type": "display_data"
    }
   ],
   "source": [
    "bert_multi_finetune = FinetuneNER(\"bert-base-multilingual-cased\" , label_list)"
   ]
  },
  {
   "cell_type": "code",
   "execution_count": 10,
   "metadata": {
    "execution": {
     "iopub.execute_input": "2025-06-24T16:40:32.311727Z",
     "iopub.status.busy": "2025-06-24T16:40:32.311410Z",
     "iopub.status.idle": "2025-06-24T16:40:32.522934Z",
     "shell.execute_reply": "2025-06-24T16:40:32.522098Z",
     "shell.execute_reply.started": "2025-06-24T16:40:32.311683Z"
    },
    "trusted": true
   },
   "outputs": [
    {
     "data": {
      "application/vnd.jupyter.widget-view+json": {
       "model_id": "3c410fecb9644bf582c0a3cde2e0b986",
       "version_major": 2,
       "version_minor": 0
      },
      "text/plain": [
       "Map:   0%|          | 0/89 [00:00<?, ? examples/s]"
      ]
     },
     "metadata": {},
     "output_type": "display_data"
    },
    {
     "data": {
      "application/vnd.jupyter.widget-view+json": {
       "model_id": "d1f866da1bc643ab9b1bb034f5c41859",
       "version_major": 2,
       "version_minor": 0
      },
      "text/plain": [
       "Map:   0%|          | 0/10 [00:00<?, ? examples/s]"
      ]
     },
     "metadata": {},
     "output_type": "display_data"
    }
   ],
   "source": [
    "tokenized_dataset = split_dataset.map(bert_multi_finetune.tokenize_and_align_labels ,  batched=True)"
   ]
  },
  {
   "cell_type": "code",
   "execution_count": 11,
   "metadata": {
    "execution": {
     "iopub.execute_input": "2025-06-24T16:40:32.524188Z",
     "iopub.status.busy": "2025-06-24T16:40:32.523925Z",
     "iopub.status.idle": "2025-06-24T16:40:32.530451Z",
     "shell.execute_reply": "2025-06-24T16:40:32.529739Z",
     "shell.execute_reply.started": "2025-06-24T16:40:32.524168Z"
    },
    "trusted": true
   },
   "outputs": [
    {
     "data": {
      "text/plain": [
       "{'train': (89, 6), 'test': (10, 6)}"
      ]
     },
     "execution_count": 11,
     "metadata": {},
     "output_type": "execute_result"
    }
   ],
   "source": [
    "tokenized_dataset.shape"
   ]
  },
  {
   "cell_type": "code",
   "execution_count": 12,
   "metadata": {
    "execution": {
     "iopub.execute_input": "2025-06-24T16:40:32.531757Z",
     "iopub.status.busy": "2025-06-24T16:40:32.531394Z",
     "iopub.status.idle": "2025-06-24T16:40:32.544135Z",
     "shell.execute_reply": "2025-06-24T16:40:32.543384Z",
     "shell.execute_reply.started": "2025-06-24T16:40:32.531732Z"
    },
    "trusted": true
   },
   "outputs": [],
   "source": [
    "colator = DataCollatorWithPadding(tokenized_dataset)"
   ]
  },
  {
   "cell_type": "code",
   "execution_count": 13,
   "metadata": {
    "execution": {
     "iopub.execute_input": "2025-06-24T16:40:32.545253Z",
     "iopub.status.busy": "2025-06-24T16:40:32.544995Z",
     "iopub.status.idle": "2025-06-24T16:47:06.349087Z",
     "shell.execute_reply": "2025-06-24T16:47:06.347757Z",
     "shell.execute_reply.started": "2025-06-24T16:40:32.545232Z"
    },
    "trusted": true
   },
   "outputs": [
    {
     "data": {
      "application/vnd.jupyter.widget-view+json": {
       "model_id": "65114b8e6f2346b3897df0176d3c8fd1",
       "version_major": 2,
       "version_minor": 0
      },
      "text/plain": [
       "model.safetensors:   0%|          | 0.00/714M [00:00<?, ?B/s]"
      ]
     },
     "metadata": {},
     "output_type": "display_data"
    },
    {
     "name": "stderr",
     "output_type": "stream",
     "text": [
      "Some weights of BertForTokenClassification were not initialized from the model checkpoint at bert-base-multilingual-cased and are newly initialized: ['classifier.bias', 'classifier.weight']\n",
      "You should probably TRAIN this model on a down-stream task to be able to use it for predictions and inference.\n",
      "/tmp/ipykernel_35/795147254.py:71: FutureWarning: `tokenizer` is deprecated and will be removed in version 5.0.0 for `Trainer.__init__`. Use `processing_class` instead.\n",
      "  trainer = Trainer(\n"
     ]
    },
    {
     "data": {
      "text/html": [
       "\n",
       "    <div>\n",
       "      \n",
       "      <progress value='60' max='60' style='width:300px; height:20px; vertical-align: middle;'></progress>\n",
       "      [60/60 06:20, Epoch 5/5]\n",
       "    </div>\n",
       "    <table border=\"1\" class=\"dataframe\">\n",
       "  <thead>\n",
       " <tr style=\"text-align: left;\">\n",
       "      <th>Step</th>\n",
       "      <th>Training Loss</th>\n",
       "    </tr>\n",
       "  </thead>\n",
       "  <tbody>\n",
       "    <tr>\n",
       "      <td>12</td>\n",
       "      <td>0.944500</td>\n",
       "    </tr>\n",
       "    <tr>\n",
       "      <td>24</td>\n",
       "      <td>0.731500</td>\n",
       "    </tr>\n",
       "    <tr>\n",
       "      <td>36</td>\n",
       "      <td>0.684900</td>\n",
       "    </tr>\n",
       "    <tr>\n",
       "      <td>48</td>\n",
       "      <td>0.657700</td>\n",
       "    </tr>\n",
       "    <tr>\n",
       "      <td>60</td>\n",
       "      <td>0.660300</td>\n",
       "    </tr>\n",
       "  </tbody>\n",
       "</table><p>"
      ],
      "text/plain": [
       "<IPython.core.display.HTML object>"
      ]
     },
     "metadata": {},
     "output_type": "display_data"
    }
   ],
   "source": [
    "train_dataset , test_dataset = tokenized_dataset[\"train\"] , tokenized_dataset[\"test\"]\n",
    "trained_bert_multi = bert_multi_finetune.train(train_dataset , test_dataset,5 , 8)"
   ]
  },
  {
   "cell_type": "code",
   "execution_count": 14,
   "metadata": {
    "execution": {
     "iopub.execute_input": "2025-06-24T16:47:06.353431Z",
     "iopub.status.busy": "2025-06-24T16:47:06.353093Z",
     "iopub.status.idle": "2025-06-24T16:47:08.237298Z",
     "shell.execute_reply": "2025-06-24T16:47:08.236319Z",
     "shell.execute_reply.started": "2025-06-24T16:47:06.353404Z"
    },
    "trusted": true
   },
   "outputs": [
    {
     "data": {
      "text/html": [],
      "text/plain": [
       "<IPython.core.display.HTML object>"
      ]
     },
     "metadata": {},
     "output_type": "display_data"
    },
    {
     "name": "stdout",
     "output_type": "stream",
     "text": [
      "{'eval_loss': 0.6530109643936157, 'eval_LOC': {'precision': 0.0, 'recall': 0.0, 'f1': 0.0, 'number': 8}, 'eval_PRICE': {'precision': 0.0, 'recall': 0.0, 'f1': 0.0, 'number': 4}, 'eval_PRODUCT': {'precision': 0.0, 'recall': 0.0, 'f1': 0.0, 'number': 7}, 'eval_overall_precision': 0.0, 'eval_overall_recall': 0.0, 'eval_overall_f1': 0.0, 'eval_overall_accuracy': 0.8323108384458078, 'eval_runtime': 1.8703, 'eval_samples_per_second': 5.347, 'eval_steps_per_second': 1.069, 'epoch': 5.0}\n"
     ]
    },
    {
     "name": "stderr",
     "output_type": "stream",
     "text": [
      "/usr/local/lib/python3.11/dist-packages/seqeval/metrics/v1.py:57: UndefinedMetricWarning: Precision and F-score are ill-defined and being set to 0.0 in labels with no predicted samples. Use `zero_division` parameter to control this behavior.\n",
      "  _warn_prf(average, modifier, msg_start, len(result))\n"
     ]
    }
   ],
   "source": [
    "print(trained_bert_multi.evaluate())"
   ]
  },
  {
   "cell_type": "code",
   "execution_count": 15,
   "metadata": {
    "execution": {
     "iopub.execute_input": "2025-06-24T16:47:08.238401Z",
     "iopub.status.busy": "2025-06-24T16:47:08.238174Z",
     "iopub.status.idle": "2025-06-24T16:47:08.637665Z",
     "shell.execute_reply": "2025-06-24T16:47:08.636689Z",
     "shell.execute_reply.started": "2025-06-24T16:47:08.238383Z"
    },
    "trusted": true
   },
   "outputs": [],
   "source": [
    "from sklearn.metrics import confusion_matrix, classification_report\n",
    "import matplotlib.pyplot as plt\n",
    "import seaborn as sns\n",
    "from seqeval.metrics import classification_report as seqeval_report\n",
    "\n",
    "def train_and_evaluate_with_confusion_matrix(trainer, label_list, use_seqeval=False):\n",
    "    # Step 1: Train the model\n",
    "\n",
    "\n",
    "    # Step 2: Get predictions\n",
    "    predictions, labels, _ = trainer.predict(trainer.eval_dataset)\n",
    "    preds = predictions.argmax(axis=-1)\n",
    "\n",
    "    true_labels = []\n",
    "    pred_labels = []\n",
    "\n",
    "    for pred, label in zip(preds, labels):\n",
    "        true_seq = []\n",
    "        pred_seq = []\n",
    "        for p, l in zip(pred, label):\n",
    "            if l != -100:\n",
    "                true_seq.append(label_list[l])\n",
    "                pred_seq.append(label_list[p])\n",
    "        true_labels.append(true_seq)\n",
    "        pred_labels.append(pred_seq)\n",
    "\n",
    "    if use_seqeval:\n",
    "        # Step 3a: Entity-level evaluation with seqeval\n",
    "        print(\"Classification Report (SeqEval):\")\n",
    "        print(seqeval_report(true_labels, pred_labels))\n",
    "\n",
    "        # Step 4a: Flatten for confusion matrix (manually)\n",
    "        true_flat = [label for seq in true_labels for label in seq]\n",
    "        pred_flat = [label for seq in pred_labels for label in seq]\n",
    "        labels_flat = sorted(list(set(true_flat + pred_flat)))\n",
    "\n",
    "    else:\n",
    "        # Step 3b: Token-level evaluation with sklearn\n",
    "        true_flat = [label for seq in true_labels for label in seq]\n",
    "        pred_flat = [label for seq in pred_labels for label in seq]\n",
    "        labels_flat = label_list\n",
    "\n",
    "        print(\"Classification Report (sklearn):\")\n",
    "        print(classification_report(true_flat, pred_flat, labels=labels_flat))\n",
    "\n",
    "    # Step 5: Plot confusion matrix\n",
    "    cm = confusion_matrix(true_flat, pred_flat, labels=labels_flat)\n",
    "\n",
    "    plt.figure(figsize=(12, 8))\n",
    "    sns.heatmap(cm, annot=True, fmt='d', xticklabels=labels_flat, yticklabels=labels_flat, cmap=\"Blues\")\n",
    "    plt.xlabel(\"Predicted\")\n",
    "    plt.ylabel(\"True\")\n",
    "    plt.title(\"Bert-base-multilingual-cased Confusion Matrix\")\n",
    "    plt.show()\n",
    "\n",
    "    "
   ]
  },
  {
   "cell_type": "code",
   "execution_count": 16,
   "metadata": {
    "execution": {
     "iopub.execute_input": "2025-06-24T16:47:08.639446Z",
     "iopub.status.busy": "2025-06-24T16:47:08.638637Z",
     "iopub.status.idle": "2025-06-24T16:47:10.989382Z",
     "shell.execute_reply": "2025-06-24T16:47:10.988599Z",
     "shell.execute_reply.started": "2025-06-24T16:47:08.639417Z"
    },
    "trusted": true
   },
   "outputs": [
    {
     "name": "stderr",
     "output_type": "stream",
     "text": [
      "/usr/local/lib/python3.11/dist-packages/seqeval/metrics/v1.py:57: UndefinedMetricWarning: Precision and F-score are ill-defined and being set to 0.0 in labels with no predicted samples. Use `zero_division` parameter to control this behavior.\n",
      "  _warn_prf(average, modifier, msg_start, len(result))\n",
      "/usr/local/lib/python3.11/dist-packages/sklearn/metrics/_classification.py:1344: UndefinedMetricWarning: Precision and F-score are ill-defined and being set to 0.0 in labels with no predicted samples. Use `zero_division` parameter to control this behavior.\n",
      "  _warn_prf(average, modifier, msg_start, len(result))\n",
      "/usr/local/lib/python3.11/dist-packages/sklearn/metrics/_classification.py:1344: UndefinedMetricWarning: Precision and F-score are ill-defined and being set to 0.0 in labels with no predicted samples. Use `zero_division` parameter to control this behavior.\n",
      "  _warn_prf(average, modifier, msg_start, len(result))\n",
      "/usr/local/lib/python3.11/dist-packages/sklearn/metrics/_classification.py:1344: UndefinedMetricWarning: Precision and F-score are ill-defined and being set to 0.0 in labels with no predicted samples. Use `zero_division` parameter to control this behavior.\n",
      "  _warn_prf(average, modifier, msg_start, len(result))\n"
     ]
    },
    {
     "name": "stdout",
     "output_type": "stream",
     "text": [
      "Classification Report (sklearn):\n",
      "              precision    recall  f1-score   support\n",
      "\n",
      "       B-LOC       0.00      0.00      0.00         8\n",
      "     B-PRICE       0.00      0.00      0.00         4\n",
      "   B-PRODUCT       0.00      0.00      0.00         7\n",
      "       I-LOC       0.83      0.47      0.60        75\n",
      "     I-PRICE       0.00      0.00      0.00        12\n",
      "   I-PRODUCT       0.00      0.00      0.00         7\n",
      "           O       0.83      0.99      0.90       376\n",
      "\n",
      "    accuracy                           0.83       489\n",
      "   macro avg       0.24      0.21      0.21       489\n",
      "weighted avg       0.77      0.83      0.79       489\n",
      "\n"
     ]
    },
    {
     "data": {
      "image/png": "[encoded data removed]",
      "text/plain": [
       "<Figure size 1200x800 with 2 Axes>"
      ]
     },
     "metadata": {},
     "output_type": "display_data"
    }
   ],
   "source": [
    "train_and_evaluate_with_confusion_matrix(trained_bert_multi , label_list)"
   ]
  },
  {
   "cell_type": "code",
   "execution_count": null,
   "metadata": {
    "trusted": true
   },
   "outputs": [],
   "source": []
  }
 ],
 "metadata": {
  "kaggle": {
   "accelerator": "none",
   "dataSources": [
    {
     "datasetId": 7725591,
     "sourceId": 12260008,
     "sourceType": "datasetVersion"
    }
   ],
   "dockerImageVersionId": 31040,
   "isGpuEnabled": false,
   "isInternetEnabled": true,
   "language": "python",
   "sourceType": "notebook"
  },
  "kernelspec": {
   "display_name": "Python 3",
   "language": "python",
   "name": "python3"
  },
  "language_info": {
   "codemirror_mode": {
    "name": "ipython",
    "version": 3
   },
   "file_extension": ".py",
   "mimetype": "text/x-python",
   "name": "python",
   "nbconvert_exporter": "python",
   "pygments_lexer": "ipython3",
   "version": "3.11.11"
  }
 },
 "nbformat": 4,
 "nbformat_minor": 4
}
