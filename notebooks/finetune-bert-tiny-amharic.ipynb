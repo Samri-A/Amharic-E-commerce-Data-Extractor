{
 "cells": [
  {
   "cell_type": "code",
   "execution_count": null,
   "metadata": {},
   "outputs": [
    {
     "ename": "",
     "evalue": "",
     "output_type": "error",
     "traceback": [
      "\u001b[1;31mFailed to start the Kernel. \n",
      "\u001b[1;31mUnable to start Kernel 'env (Python 3.13.5)' due to a timeout waiting for the ports to get used. \n",
      "\u001b[1;31mView Jupyter <a href='command:jupyter.viewOutput'>log</a> for further details."
     ]
    }
   ],
   "source": [
    "import sys\n",
    "sys.path.append('./scripts')\n",
    "import FinetuneNER"
   ]
  },
  {
   "cell_type": "code",
   "execution_count": null,
   "metadata": {
    "execution": {
     "iopub.execute_input": "2025-06-24T16:18:20.445409Z",
     "iopub.status.busy": "2025-06-24T16:18:20.445166Z",
     "iopub.status.idle": "2025-06-24T16:19:00.957111Z",
     "shell.execute_reply": "2025-06-24T16:19:00.956171Z",
     "shell.execute_reply.started": "2025-06-24T16:18:20.445384Z"
    },
    "trusted": true
   },
   "outputs": [
    {
     "name": "stderr",
     "output_type": "stream",
     "text": [
      "2025-06-24 16:18:38.797088: E external/local_xla/xla/stream_executor/cuda/cuda_fft.cc:477] Unable to register cuFFT factory: Attempting to register factory for plugin cuFFT when one has already been registered\n",
      "WARNING: All log messages before absl::InitializeLog() is called are written to STDERR\n",
      "E0000 00:00:1750781919.109094      35 cuda_dnn.cc:8310] Unable to register cuDNN factory: Attempting to register factory for plugin cuDNN when one has already been registered\n",
      "E0000 00:00:1750781919.193297      35 cuda_blas.cc:1418] Unable to register cuBLAS factory: Attempting to register factory for plugin cuBLAS when one has already been registered\n"
     ]
    }
   ],
   "source": [
    "from transformers import Trainer , AutoTokenizer , TrainingArguments , DataCollatorForTokenClassification , DataCollatorWithPadding , AutoModelForTokenClassification\n",
    "import pandas as pd\n",
    "from datasets import Dataset \n",
    "from sklearn.model_selection import train_test_split\n",
    "import numpy as np\n",
    "from sklearn.preprocessing import LabelEncoder\n",
    "import evaluate\n",
    "import random"
   ]
  },
  {
   "cell_type": "code",
   "execution_count": null,
   "metadata": {
    "execution": {
     "iopub.execute_input": "2025-06-24T16:19:00.960798Z",
     "iopub.status.busy": "2025-06-24T16:19:00.959827Z",
     "iopub.status.idle": "2025-06-24T16:19:01.051370Z",
     "shell.execute_reply": "2025-06-24T16:19:01.050383Z",
     "shell.execute_reply.started": "2025-06-24T16:19:00.960736Z"
    },
    "trusted": true
   },
   "outputs": [
    {
     "name": "stdout",
     "output_type": "stream",
     "text": [
      "{'tokens': ['በኤሌትሪክ', 'የሚሰራ', 'ምጣድ', 'ለፈጢራ', 'ለቂጣ', 'ለአምባሻና', 'ለተለያዩ', 'ነገሮች', 'መጋገሪያነት', 'የሚያገለግል', 'በተጨማሪም', 'ቡና', 'ለመቁላት', 'የሚመች', 'በአነስተኛ', 'የኤሌትሪክ', 'ሀይል', 'የሚሰራ', 'እጄታዉ', 'የማያቃጥል', 'ማቴሪያል', 'ሶኬቱ', 'ላይ', 'የሀይል', 'መቆጣጠሪያ', 'ፊዉዝ', 'የተገጠመለት', 'አድራሻ', 'መገናኛ', 'ስሪ', 'ኤም', 'ሲቲ', 'ሞል', 'ሁለተኛ', 'ፎቅ', 'ቢሮ', 'ቁ', 'ሊፍቱ', 'ፊት', 'ለ', 'ፊት', '0909522840', '0923350054', 'ለማዘዝ', 'ይጠቀሙ', 'ለተጨማሪ', 'ማብራሪያ', 'የቴሌግራም', 'ገፃችን'], 'ner_tags': ['B-PRODUCT', 'I-PRODUCT', 'O', 'O', 'O', 'O', 'O', 'O', 'O', 'O', 'O', 'O', 'O', 'O', 'O', 'O', 'O', 'O', 'O', 'O', 'O', 'O', 'O', 'O', 'O', 'O', 'O', 'B-LOC', 'I-LOC', 'I-LOC', 'I-LOC', 'I-LOC', 'I-LOC', 'I-LOC', 'I-LOC', 'O', 'O', 'O', 'O', 'O', 'O', 'O', 'O', 'O', 'O', 'O', 'O', 'O', 'O']}\n"
     ]
    },
    {
     "name": "stderr",
     "output_type": "stream",
     "text": [
      "/tmp/ipykernel_35/2797670705.py:10: FutureWarning: A value is trying to be set on a copy of a DataFrame or Series through chained assignment using an inplace method.\n",
      "The behavior will change in pandas 3.0. This inplace method will never work because the intermediate object on which we are setting values always behaves as a copy.\n",
      "\n",
      "For example, when doing 'df[col].method(value, inplace=True)', try using 'df.method({col: value}, inplace=True)' or df[col] = df[col].method(value) instead, to perform the operation inplace on the original object.\n",
      "\n",
      "\n",
      "  df[\"text\"].replace(\"\", pd.NA, inplace=True)\n"
     ]
    }
   ],
   "source": [
    "df = pd.read_csv(\n",
    "    \"/kaggle/input/amhar-ner/ner_auto_labels.conll\",#replace with your CONLL file path\n",
    "    sep=\"\\s+\",\n",
    "    names=[\"text\", \"label\"],\n",
    "    skip_blank_lines=False,\n",
    "    engine=\"python\"\n",
    ")\n",
    "\n",
    "# Replace empty lines with NaN to mark sentence boundaries\n",
    "df[\"text\"].replace(\"\", pd.NA, inplace=True)\n",
    "\n",
    "# Create sentence groups (each group = one sentence)\n",
    "df[\"sentence_id\"] = df[\"text\"].isna().cumsum()\n",
    "\n",
    "# Drop empty rows\n",
    "df = df.dropna()\n",
    "\n",
    "# Group by sentence\n",
    "grouped = df.groupby(\"sentence_id\").agg({\n",
    "    \"text\": list,\n",
    "    \"label\": list\n",
    "}).reset_index(drop=True)\n",
    "\n",
    "\n",
    "# Rename columns to match expected format\n",
    "grouped.columns = [\"tokens\", \"ner_tags\"]\n",
    "\n",
    "# Now your grouped DataFrame is ready for Dataset.from_pandas()\n",
    "\n",
    "ner_dataset = Dataset.from_pandas(grouped)\n",
    "\n",
    "print(ner_dataset[0])"
   ]
  },
  {
   "cell_type": "code",
   "execution_count": 7,
   "metadata": {
    "execution": {
     "iopub.execute_input": "2025-06-24T16:19:01.052652Z",
     "iopub.status.busy": "2025-06-24T16:19:01.052339Z",
     "iopub.status.idle": "2025-06-24T16:19:01.115411Z",
     "shell.execute_reply": "2025-06-24T16:19:01.114359Z",
     "shell.execute_reply.started": "2025-06-24T16:19:01.052618Z"
    },
    "trusted": true
   },
   "outputs": [
    {
     "data": {
      "application/vnd.jupyter.widget-view+json": {
       "model_id": "0773de9d1ded46949ea7f390ae6bd0d5",
       "version_major": 2,
       "version_minor": 0
      },
      "text/plain": [
       "Map:   0%|          | 0/99 [00:00<?, ? examples/s]"
      ]
     },
     "metadata": {},
     "output_type": "display_data"
    }
   ],
   "source": [
    "label_list = sorted(set(label for tags in ner_dataset[\"ner_tags\"] for label in tags))\n",
    "label_to_id = {label: idx for idx, label in enumerate(label_list)}\n",
    "id_to_label = {idx: label for label, idx in label_to_id.items()}\n",
    "\n",
    "# Encode ner_tags\n",
    "ner_dataset = ner_dataset.map(\n",
    "    lambda example: {\"ner_tags\": [label_to_id[label] for label in example[\"ner_tags\"]]}\n",
    ")"
   ]
  },
  {
   "cell_type": "code",
   "execution_count": 8,
   "metadata": {
    "execution": {
     "iopub.execute_input": "2025-06-24T16:19:01.116791Z",
     "iopub.status.busy": "2025-06-24T16:19:01.116446Z",
     "iopub.status.idle": "2025-06-24T16:19:01.127928Z",
     "shell.execute_reply": "2025-06-24T16:19:01.127193Z",
     "shell.execute_reply.started": "2025-06-24T16:19:01.116760Z"
    },
    "trusted": true
   },
   "outputs": [],
   "source": [
    "split_dataset = ner_dataset.train_test_split(test_size=0.1)"
   ]
  },
  {
   "cell_type": "code",
   "execution_count": 10,
   "metadata": {
    "execution": {
     "iopub.execute_input": "2025-06-24T16:19:01.150517Z",
     "iopub.status.busy": "2025-06-24T16:19:01.150289Z",
     "iopub.status.idle": "2025-06-24T16:19:02.240671Z",
     "shell.execute_reply": "2025-06-24T16:19:02.239960Z",
     "shell.execute_reply.started": "2025-06-24T16:19:01.150500Z"
    },
    "trusted": true
   },
   "outputs": [
    {
     "data": {
      "application/vnd.jupyter.widget-view+json": {
       "model_id": "02198880b8cb4007a0c7c7a506381215",
       "version_major": 2,
       "version_minor": 0
      },
      "text/plain": [
       "tokenizer_config.json:   0%|          | 0.00/1.23k [00:00<?, ?B/s]"
      ]
     },
     "metadata": {},
     "output_type": "display_data"
    },
    {
     "data": {
      "application/vnd.jupyter.widget-view+json": {
       "model_id": "df718e2fd995428ea97fbfb607a7e090",
       "version_major": 2,
       "version_minor": 0
      },
      "text/plain": [
       "vocab.txt:   0%|          | 0.00/274k [00:00<?, ?B/s]"
      ]
     },
     "metadata": {},
     "output_type": "display_data"
    },
    {
     "data": {
      "application/vnd.jupyter.widget-view+json": {
       "model_id": "bfdbad4b743644918ac7ebcb3d773652",
       "version_major": 2,
       "version_minor": 0
      },
      "text/plain": [
       "tokenizer.json:   0%|          | 0.00/725k [00:00<?, ?B/s]"
      ]
     },
     "metadata": {},
     "output_type": "display_data"
    },
    {
     "data": {
      "application/vnd.jupyter.widget-view+json": {
       "model_id": "e7598ad0fc794ac1b9d0167c2335f52c",
       "version_major": 2,
       "version_minor": 0
      },
      "text/plain": [
       "special_tokens_map.json:   0%|          | 0.00/695 [00:00<?, ?B/s]"
      ]
     },
     "metadata": {},
     "output_type": "display_data"
    },
    {
     "data": {
      "application/vnd.jupyter.widget-view+json": {
       "model_id": "df269977c18c44b4837bfeab3bccaece",
       "version_major": 2,
       "version_minor": 0
      },
      "text/plain": [
       "Downloading builder script:   0%|          | 0.00/6.34k [00:00<?, ?B/s]"
      ]
     },
     "metadata": {},
     "output_type": "display_data"
    }
   ],
   "source": [
    "bert_amhar_finetune = FinetuneNER(\"rasyosef/bert-tiny-amharic\" , label_list)"
   ]
  },
  {
   "cell_type": "code",
   "execution_count": 11,
   "metadata": {
    "execution": {
     "iopub.execute_input": "2025-06-24T16:19:02.241840Z",
     "iopub.status.busy": "2025-06-24T16:19:02.241553Z",
     "iopub.status.idle": "2025-06-24T16:19:02.410397Z",
     "shell.execute_reply": "2025-06-24T16:19:02.409475Z",
     "shell.execute_reply.started": "2025-06-24T16:19:02.241817Z"
    },
    "trusted": true
   },
   "outputs": [
    {
     "data": {
      "application/vnd.jupyter.widget-view+json": {
       "model_id": "529481a6b2b84ff9a1647e9a9b9895cb",
       "version_major": 2,
       "version_minor": 0
      },
      "text/plain": [
       "Map:   0%|          | 0/89 [00:00<?, ? examples/s]"
      ]
     },
     "metadata": {},
     "output_type": "display_data"
    },
    {
     "data": {
      "application/vnd.jupyter.widget-view+json": {
       "model_id": "9db0c692ac3c410aa20d22119c9482f4",
       "version_major": 2,
       "version_minor": 0
      },
      "text/plain": [
       "Map:   0%|          | 0/10 [00:00<?, ? examples/s]"
      ]
     },
     "metadata": {},
     "output_type": "display_data"
    }
   ],
   "source": [
    "tokenized_dataset = split_dataset.map(bert_amhar_finetune.tokenize_and_align_labels ,  batched=True)"
   ]
  },
  {
   "cell_type": "code",
   "execution_count": 12,
   "metadata": {
    "execution": {
     "iopub.execute_input": "2025-06-24T16:19:02.411633Z",
     "iopub.status.busy": "2025-06-24T16:19:02.411360Z",
     "iopub.status.idle": "2025-06-24T16:19:02.417287Z",
     "shell.execute_reply": "2025-06-24T16:19:02.416396Z",
     "shell.execute_reply.started": "2025-06-24T16:19:02.411601Z"
    },
    "trusted": true
   },
   "outputs": [
    {
     "data": {
      "text/plain": [
       "{'train': (89, 6), 'test': (10, 6)}"
      ]
     },
     "execution_count": 12,
     "metadata": {},
     "output_type": "execute_result"
    }
   ],
   "source": [
    "tokenized_dataset.shape"
   ]
  },
  {
   "cell_type": "code",
   "execution_count": 13,
   "metadata": {
    "execution": {
     "iopub.execute_input": "2025-06-24T16:19:02.418516Z",
     "iopub.status.busy": "2025-06-24T16:19:02.418198Z",
     "iopub.status.idle": "2025-06-24T16:19:02.434900Z",
     "shell.execute_reply": "2025-06-24T16:19:02.433910Z",
     "shell.execute_reply.started": "2025-06-24T16:19:02.418487Z"
    },
    "trusted": true
   },
   "outputs": [],
   "source": [
    "colator = DataCollatorWithPadding(tokenized_dataset)"
   ]
  },
  {
   "cell_type": "code",
   "execution_count": 14,
   "metadata": {
    "execution": {
     "iopub.execute_input": "2025-06-24T16:19:02.436152Z",
     "iopub.status.busy": "2025-06-24T16:19:02.435851Z",
     "iopub.status.idle": "2025-06-24T16:19:16.629465Z",
     "shell.execute_reply": "2025-06-24T16:19:16.628678Z",
     "shell.execute_reply.started": "2025-06-24T16:19:02.436125Z"
    },
    "trusted": true
   },
   "outputs": [
    {
     "data": {
      "application/vnd.jupyter.widget-view+json": {
       "model_id": "4b25b996b1b24e5f99c0bd0cc595167b",
       "version_major": 2,
       "version_minor": 0
      },
      "text/plain": [
       "config.json:   0%|          | 0.00/643 [00:00<?, ?B/s]"
      ]
     },
     "metadata": {},
     "output_type": "display_data"
    },
    {
     "data": {
      "application/vnd.jupyter.widget-view+json": {
       "model_id": "76221d49815a415699c41cff4d0cd2eb",
       "version_major": 2,
       "version_minor": 0
      },
      "text/plain": [
       "model.safetensors:   0%|          | 0.00/16.7M [00:00<?, ?B/s]"
      ]
     },
     "metadata": {},
     "output_type": "display_data"
    },
    {
     "name": "stderr",
     "output_type": "stream",
     "text": [
      "Some weights of BertForTokenClassification were not initialized from the model checkpoint at rasyosef/bert-tiny-amharic and are newly initialized: ['classifier.bias', 'classifier.weight']\n",
      "You should probably TRAIN this model on a down-stream task to be able to use it for predictions and inference.\n",
      "/tmp/ipykernel_35/795147254.py:71: FutureWarning: `tokenizer` is deprecated and will be removed in version 5.0.0 for `Trainer.__init__`. Use `processing_class` instead.\n",
      "  trainer = Trainer(\n"
     ]
    },
    {
     "data": {
      "text/html": [
       "\n",
       "    <div>\n",
       "      \n",
       "      <progress value='120' max='120' style='width:300px; height:20px; vertical-align: middle;'></progress>\n",
       "      [120/120 00:12, Epoch 10/10]\n",
       "    </div>\n",
       "    <table border=\"1\" class=\"dataframe\">\n",
       "  <thead>\n",
       " <tr style=\"text-align: left;\">\n",
       "      <th>Step</th>\n",
       "      <th>Training Loss</th>\n",
       "    </tr>\n",
       "  </thead>\n",
       "  <tbody>\n",
       "    <tr>\n",
       "      <td>12</td>\n",
       "      <td>2.134000</td>\n",
       "    </tr>\n",
       "    <tr>\n",
       "      <td>24</td>\n",
       "      <td>2.066800</td>\n",
       "    </tr>\n",
       "    <tr>\n",
       "      <td>36</td>\n",
       "      <td>2.027200</td>\n",
       "    </tr>\n",
       "    <tr>\n",
       "      <td>48</td>\n",
       "      <td>1.969900</td>\n",
       "    </tr>\n",
       "    <tr>\n",
       "      <td>60</td>\n",
       "      <td>1.933300</td>\n",
       "    </tr>\n",
       "    <tr>\n",
       "      <td>72</td>\n",
       "      <td>1.907300</td>\n",
       "    </tr>\n",
       "    <tr>\n",
       "      <td>84</td>\n",
       "      <td>1.879000</td>\n",
       "    </tr>\n",
       "    <tr>\n",
       "      <td>96</td>\n",
       "      <td>1.860400</td>\n",
       "    </tr>\n",
       "    <tr>\n",
       "      <td>108</td>\n",
       "      <td>1.840800</td>\n",
       "    </tr>\n",
       "    <tr>\n",
       "      <td>120</td>\n",
       "      <td>1.843100</td>\n",
       "    </tr>\n",
       "  </tbody>\n",
       "</table><p>"
      ],
      "text/plain": [
       "<IPython.core.display.HTML object>"
      ]
     },
     "metadata": {},
     "output_type": "display_data"
    }
   ],
   "source": [
    "train_dataset , test_dataset = tokenized_dataset[\"train\"] , tokenized_dataset[\"test\"]\n",
    "trained_bert_amhar = bert_amhar_finetune.train(train_dataset , test_dataset,10 , 8)"
   ]
  },
  {
   "cell_type": "code",
   "execution_count": 15,
   "metadata": {
    "execution": {
     "iopub.execute_input": "2025-06-24T16:19:16.632477Z",
     "iopub.status.busy": "2025-06-24T16:19:16.632189Z",
     "iopub.status.idle": "2025-06-24T16:19:16.720148Z",
     "shell.execute_reply": "2025-06-24T16:19:16.719052Z",
     "shell.execute_reply.started": "2025-06-24T16:19:16.632455Z"
    },
    "trusted": true
   },
   "outputs": [
    {
     "data": {
      "text/html": [],
      "text/plain": [
       "<IPython.core.display.HTML object>"
      ]
     },
     "metadata": {},
     "output_type": "display_data"
    },
    {
     "name": "stdout",
     "output_type": "stream",
     "text": [
      "{'eval_loss': 1.8361175060272217, 'eval_LOC': {'precision': 0.0, 'recall': 0.0, 'f1': 0.0, 'number': 7}, 'eval_PRICE': {'precision': 0.0, 'recall': 0.0, 'f1': 0.0, 'number': 5}, 'eval_PRODUCT': {'precision': 0.0, 'recall': 0.0, 'f1': 0.0, 'number': 8}, 'eval_overall_precision': 0.0, 'eval_overall_recall': 0.0, 'eval_overall_f1': 0.0, 'eval_overall_accuracy': 0.3317307692307692, 'eval_runtime': 0.0771, 'eval_samples_per_second': 129.762, 'eval_steps_per_second': 25.952, 'epoch': 10.0}\n"
     ]
    }
   ],
   "source": [
    "print(trained_bert_amhar.evaluate())"
   ]
  },
  {
   "cell_type": "code",
   "execution_count": 16,
   "metadata": {
    "execution": {
     "iopub.execute_input": "2025-06-24T16:19:16.721525Z",
     "iopub.status.busy": "2025-06-24T16:19:16.721241Z",
     "iopub.status.idle": "2025-06-24T16:19:17.025313Z",
     "shell.execute_reply": "2025-06-24T16:19:17.024372Z",
     "shell.execute_reply.started": "2025-06-24T16:19:16.721502Z"
    },
    "trusted": true
   },
   "outputs": [],
   "source": [
    "from sklearn.metrics import confusion_matrix, classification_report\n",
    "import matplotlib.pyplot as plt\n",
    "import seaborn as sns\n",
    "from seqeval.metrics import classification_report as seqeval_report\n",
    "\n",
    "def train_and_evaluate_with_confusion_matrix(trainer, label_list, use_seqeval=False):\n",
    "    # Step 1: Train the model\n",
    "\n",
    "\n",
    "    # Step 2: Get predictions\n",
    "    predictions, labels, _ = trainer.predict(trainer.eval_dataset)\n",
    "    preds = predictions.argmax(axis=-1)\n",
    "\n",
    "    true_labels = []\n",
    "    pred_labels = []\n",
    "\n",
    "    for pred, label in zip(preds, labels):\n",
    "        true_seq = []\n",
    "        pred_seq = []\n",
    "        for p, l in zip(pred, label):\n",
    "            if l != -100:\n",
    "                true_seq.append(label_list[l])\n",
    "                pred_seq.append(label_list[p])\n",
    "        true_labels.append(true_seq)\n",
    "        pred_labels.append(pred_seq)\n",
    "\n",
    "    if use_seqeval:\n",
    "        # Step 3a: Entity-level evaluation with seqeval\n",
    "        print(\"Classification Report (SeqEval):\")\n",
    "        print(seqeval_report(true_labels, pred_labels))\n",
    "\n",
    "        # Step 4a: Flatten for confusion matrix (manually)\n",
    "        true_flat = [label for seq in true_labels for label in seq]\n",
    "        pred_flat = [label for seq in pred_labels for label in seq]\n",
    "        labels_flat = sorted(list(set(true_flat + pred_flat)))\n",
    "\n",
    "    else:\n",
    "        # Step 3b: Token-level evaluation with sklearn\n",
    "        true_flat = [label for seq in true_labels for label in seq]\n",
    "        pred_flat = [label for seq in pred_labels for label in seq]\n",
    "        labels_flat = label_list\n",
    "\n",
    "        print(\"Classification Report (sklearn):\")\n",
    "        print(classification_report(true_flat, pred_flat, labels=labels_flat))\n",
    "\n",
    "    # Step 5: Plot confusion matrix\n",
    "    cm = confusion_matrix(true_flat, pred_flat, labels=labels_flat)\n",
    "\n",
    "    plt.figure(figsize=(12, 8))\n",
    "    sns.heatmap(cm, annot=True, fmt='d', xticklabels=labels_flat, yticklabels=labels_flat, cmap=\"Blues\")\n",
    "    plt.xlabel(\"Predicted\")\n",
    "    plt.ylabel(\"True\")\n",
    "    plt.title(\"Bert-tiny-amharic Confusion Matrix\")\n",
    "    plt.show()\n",
    "\n",
    "    "
   ]
  },
  {
   "cell_type": "code",
   "execution_count": 17,
   "metadata": {
    "execution": {
     "iopub.execute_input": "2025-06-24T16:19:17.027096Z",
     "iopub.status.busy": "2025-06-24T16:19:17.026397Z",
     "iopub.status.idle": "2025-06-24T16:19:17.508473Z",
     "shell.execute_reply": "2025-06-24T16:19:17.507506Z",
     "shell.execute_reply.started": "2025-06-24T16:19:17.027070Z"
    },
    "trusted": true
   },
   "outputs": [
    {
     "name": "stdout",
     "output_type": "stream",
     "text": [
      "Classification Report (sklearn):\n",
      "              precision    recall  f1-score   support\n",
      "\n",
      "       B-LOC       0.02      0.29      0.04         7\n",
      "     B-PRICE       0.00      0.00      0.00         5\n",
      "   B-PRODUCT       0.06      0.50      0.11         8\n",
      "       I-LOC       0.14      0.22      0.17        55\n",
      "     I-PRICE       0.00      0.00      0.00        11\n",
      "   I-PRODUCT       0.00      0.00      0.00         8\n",
      "           O       0.75      0.37      0.50       322\n",
      "\n",
      "    accuracy                           0.33       416\n",
      "   macro avg       0.14      0.20      0.12       416\n",
      "weighted avg       0.60      0.33      0.41       416\n",
      "\n"
     ]
    },
    {
     "data": {
      "image/png": "[encoded data removed]",
      "text/plain": [
       "<Figure size 1200x800 with 2 Axes>"
      ]
     },
     "metadata": {},
     "output_type": "display_data"
    }
   ],
   "source": [
    "train_and_evaluate_with_confusion_matrix(trained_bert_amhar , label_list)"
   ]
  },
  {
   "cell_type": "code",
   "execution_count": 25,
   "metadata": {
    "execution": {
     "iopub.execute_input": "2025-06-24T16:38:30.870499Z",
     "iopub.status.busy": "2025-06-24T16:38:30.870070Z",
     "iopub.status.idle": "2025-06-24T16:38:30.877301Z",
     "shell.execute_reply": "2025-06-24T16:38:30.876447Z",
     "shell.execute_reply.started": "2025-06-24T16:38:30.870470Z"
    },
    "trusted": true
   },
   "outputs": [
    {
     "data": {
      "text/plain": [
       "Ellipsis"
      ]
     },
     "execution_count": 25,
     "metadata": {},
     "output_type": "execute_result"
    }
   ],
   "source": [
    "..."
   ]
  }
 ],
 "metadata": {
  "kaggle": {
   "accelerator": "none",
   "dataSources": [
    {
     "datasetId": 7725591,
     "sourceId": 12260008,
     "sourceType": "datasetVersion"
    },
    {
     "datasetId": 7729384,
     "sourceId": 12265814,
     "sourceType": "datasetVersion"
    },
    {
     "datasetId": 7729412,
     "sourceId": 12265859,
     "sourceType": "datasetVersion"
    }
   ],
   "dockerImageVersionId": 31040,
   "isGpuEnabled": false,
   "isInternetEnabled": true,
   "language": "python",
   "sourceType": "notebook"
  },
  "kernelspec": {
   "display_name": "env",
   "language": "python",
   "name": "python3"
  },
  "language_info": {
   "codemirror_mode": {
    "name": "ipython",
    "version": 3
   },
   "file_extension": ".py",
   "mimetype": "text/x-python",
   "name": "python",
   "nbconvert_exporter": "python",
   "pygments_lexer": "ipython3",
   "version": "3.13.5"
  }
 },
 "nbformat": 4,
 "nbformat_minor": 4
}
